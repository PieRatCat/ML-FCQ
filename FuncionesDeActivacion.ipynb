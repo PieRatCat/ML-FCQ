{
  "nbformat": 4,
  "nbformat_minor": 0,
  "metadata": {
    "colab": {
      "provenance": [],
      "collapsed_sections": [],
      "include_colab_link": true
    },
    "kernelspec": {
      "display_name": "Python 3",
      "language": "python",
      "name": "python3"
    }
  },
  "cells": [
    {
      "cell_type": "markdown",
      "metadata": {
        "id": "view-in-github",
        "colab_type": "text"
      },
      "source": [
        "<a href=\"https://colab.research.google.com/github/napoles-uach/ML-FCQ/blob/main/FuncionesDeActivacion.ipynb\" target=\"_parent\"><img src=\"https://colab.research.google.com/assets/colab-badge.svg\" alt=\"Open In Colab\"/></a>"
      ]
    },
    {
      "cell_type": "markdown",
      "metadata": {
        "id": "DI8ICeXRuAbE"
      },
      "source": [
        "### Funciones de activacion\n",
        "* Sigmoide\n",
        "* Tanh\n",
        "* ReLU\n",
        "* Leaky ReLU\n",
        "* Softmax\n"
      ]
    },
    {
      "cell_type": "code",
      "metadata": {
        "id": "oOxB4f3PuAbH"
      },
      "source": [
        "import numpy as np\n",
        "import matplotlib.pyplot as plt\n",
        "import seaborn as sns\n",
        "#sns.set()\n",
        "%matplotlib inline"
      ],
      "execution_count": 1,
      "outputs": []
    },
    {
      "cell_type": "code",
      "metadata": {
        "id": "6FZcP_-TuAbK"
      },
      "source": [
        "z = np.linspace(-10,10,100)"
      ],
      "execution_count": 2,
      "outputs": []
    },
    {
      "cell_type": "markdown",
      "metadata": {
        "id": "nHfisV2juAbO"
      },
      "source": [
        "#### Funcion de activacion Sigmoide\n",
        "$$\\sigma (z) = \\frac{1}{1+e^{-z}} $$"
      ]
    },
    {
      "cell_type": "code",
      "metadata": {
        "id": "OBIzH30auAbP"
      },
      "source": [
        "def sigmoid(z):\n",
        "    return 1/(1+np.exp(-z))\n",
        "\n",
        "\n",
        "\n",
        "def dsigmoid(a):\n",
        "    return a*(1-a)  "
      ],
      "execution_count": 3,
      "outputs": []
    },
    {
      "cell_type": "code",
      "metadata": {
        "id": "x0zZuRdOuAbT"
      },
      "source": [
        "plt.plot(z, sigmoid(z), label = 'sigmoide')\n",
        "#plt.plot(z, dsigmoid(sigmoid(z)), label = r'$ \\frac{dsigmoid}{dz}$')\n",
        "plt.legend(fontsize = 12)\n",
        "plt.xlabel('z')\n",
        "plt.show()"
      ],
      "execution_count": null,
      "outputs": []
    },
    {
      "cell_type": "markdown",
      "metadata": {
        "id": "uBo7xdA-uAbb"
      },
      "source": [
        "#### Funcion de activacion Tanh\n",
        "$$\\tanh(z) = \\frac{e^z-e^{-z}}{e^z+e^{-z}}$$"
      ]
    },
    {
      "cell_type": "code",
      "metadata": {
        "id": "FW9ZbBySuAbc"
      },
      "source": [
        "def tanh(z):\n",
        "    return np.tanh(z)\n",
        "\n",
        "\n",
        "def dtanh(a):\n",
        "    return 1-np.power(a,2)"
      ],
      "execution_count": 5,
      "outputs": []
    },
    {
      "cell_type": "code",
      "metadata": {
        "id": "fWLQm0OpuAbe"
      },
      "source": [
        "plt.plot(z, tanh(z),'b', label = 'tanh')\n",
        "#plt.plot(z, dtanh(tanh(z)),'r', label=r'$ \\frac{dtanh}{dz}$')\n",
        "plt.legend(fontsize = 12)\n",
        "plt.show()"
      ],
      "execution_count": null,
      "outputs": []
    },
    {
      "cell_type": "markdown",
      "metadata": {
        "id": "A0gU9Qm6uAbj"
      },
      "source": [
        "#### Funcion de activacion ReLU\n",
        "$$ReLU(z) = \\max (0,z)$$"
      ]
    },
    {
      "cell_type": "code",
      "metadata": {
        "id": "EO2pKdH_uAbk"
      },
      "source": [
        "def ReLU(z):\n",
        "    return np.maximum(0,z)\n",
        "\n",
        "\n",
        "def dReLU(a):\n",
        "    return 1*(a>0)"
      ],
      "execution_count": 7,
      "outputs": []
    },
    {
      "cell_type": "code",
      "metadata": {
        "id": "3HhcLj6huAbo"
      },
      "source": [
        "plt.plot(z, ReLU(z),'b', label ='ReLU')\n",
        "#plt.plot(z, dReLU(ReLU(z)),'r', label=r'$ \\frac{dReLU}{dz}$')\n",
        "plt.legend(fontsize = 12)\n",
        "plt.xlabel('z')\n",
        "plt.show()"
      ],
      "execution_count": null,
      "outputs": []
    },
    {
      "cell_type": "markdown",
      "metadata": {
        "id": "LYiwJS0guAbs"
      },
      "source": [
        "#### Funcion de activacion Leaky ReLU \n",
        "$$LeakyReLU(z) = \\max (0.01z,z)$$"
      ]
    },
    {
      "cell_type": "code",
      "metadata": {
        "id": "6iXRjLIRuAbt"
      },
      "source": [
        "def LeakyReLU(z):\n",
        "    return np.maximum(0.01*z,z)\n",
        "\n",
        "def dLeakyReLU(a):\n",
        "    return 0.01*(a>0)"
      ],
      "execution_count": 9,
      "outputs": []
    },
    {
      "cell_type": "code",
      "metadata": {
        "scrolled": true,
        "id": "XaAxqPLmuAbx"
      },
      "source": [
        "plt.plot(z, LeakyReLU(z),'b', label = 'LeakyReLU')\n",
        "#plt.plot(z, dLeakyReLU(LeakyReLU(z)),'r', label=r'$ \\frac{dLeakyReLU}{dz}$')\n",
        "plt.legend(fontsize = 12)\n",
        "plt.xlabel('z')\n",
        "\n",
        "plt.show()"
      ],
      "execution_count": null,
      "outputs": []
    },
    {
      "cell_type": "markdown",
      "metadata": {
        "id": "ZObYO_-euAb2"
      },
      "source": [
        "Comparacion de las derivadas de las funciones de activacion"
      ]
    },
    {
      "cell_type": "code",
      "metadata": {
        "id": "88wDb4b4uAb2"
      },
      "source": [
        "plt.plot(z, dsigmoid(sigmoid(z)),label = r'$ \\frac{dsigmoid}{dz}$' )\n",
        "plt.plot(z, dtanh(tanh(z)), label = r'$ \\frac{dtanh}{dz}$')\n",
        "plt.plot(z, dReLU(ReLU(z)), label=r'$ \\frac{dReLU}{dz}$')\n",
        "plt.plot(z, dLeakyReLU(LeakyReLU(z)), label=r'$ \\frac{dLeakyReLU}{dz}$')\n",
        "plt.legend(fontsize = 12)\n",
        "plt.xlabel('z')\n",
        "plt.title('Derivadas de las Funciones de Activacion')\n",
        "plt.show()"
      ],
      "execution_count": null,
      "outputs": []
    },
    {
      "cell_type": "markdown",
      "source": [
        "### Funcion de activacion Softmax\n",
        "$$softmax(z_i) = \\frac{e^{z_i}}{\\sum_i e^{z_i}}$$\n",
        "\n",
        "\n",
        "![](https://miro.medium.com/max/1400/1*ReYpdIZ3ZSAPb2W8cJpkBg.jpeg) "
      ],
      "metadata": {
        "id": "F2uenTa5soRA"
      }
    },
    {
      "cell_type": "markdown",
      "source": [
        "Valores para un problema de Regresion\n",
        "\n",
        "|hiperparametro|vaor tipico|\n",
        "|---|---|\n",
        "|numero de Neuronas input|una por atributo|\n",
        "|numero de capas ocultas|de 1 una a 5|\n",
        "|neuronas por capa oculta| de 10 a 100|\n",
        "|numero de neuronas de salida| una por valor de prediccion|\n",
        "|Funcion de activacion oculta|ReLU|\n",
        "|Activacion de Salida|Lineal, ReLU (si son valores positivos), sigmoide/tanh si son valores acotados |\n",
        "|Loss function|MSE,MAE|"
      ],
      "metadata": {
        "id": "im1rdTPt61uV"
      }
    },
    {
      "cell_type": "markdown",
      "source": [
        "Valores para un problema de Clasificacion\n",
        "\n",
        "|hiperparametro|Clasificacion Binaria|Clasificacion de multiples clases|\n",
        "|-----|-----|-----|\n",
        "|Input y capas ocultas|igual que para regresion|Igual que para regresion|\n",
        "|Neuronas de Output|1|una por clase|\n",
        "|Funcion de activacion de la capa de salida|Sigmoide|Softmax|\n",
        "|Funcion de Perdida|Cross Entropy|Cross Entropy|"
      ],
      "metadata": {
        "id": "5-ghxSzN0fhb"
      }
    }
  ]
}