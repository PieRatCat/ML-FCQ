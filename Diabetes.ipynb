{
  "nbformat": 4,
  "nbformat_minor": 0,
  "metadata": {
    "colab": {
      "provenance": [],
      "collapsed_sections": [],
      "authorship_tag": "ABX9TyNC7yh+kMhvzOjsZM+PKS/T",
      "include_colab_link": true
    },
    "kernelspec": {
      "name": "python3",
      "display_name": "Python 3"
    },
    "language_info": {
      "name": "python"
    }
  },
  "cells": [
    {
      "cell_type": "markdown",
      "metadata": {
        "id": "view-in-github",
        "colab_type": "text"
      },
      "source": [
        "<a href=\"https://colab.research.google.com/github/napoles-uach/ML-FCQ/blob/main/Diabetes.ipynb\" target=\"_parent\"><img src=\"https://colab.research.google.com/assets/colab-badge.svg\" alt=\"Open In Colab\"/></a>"
      ]
    },
    {
      "cell_type": "code",
      "source": [
        "from sklearn import datasets"
      ],
      "metadata": {
        "id": "QZVwOnOpj-yG"
      },
      "execution_count": 1,
      "outputs": []
    },
    {
      "cell_type": "code",
      "source": [
        "from sklearn.model_selection import train_test_split\n",
        "from sklearn.preprocessing import StandardScaler\n"
      ],
      "metadata": {
        "id": "woN5A-diqsfp"
      },
      "execution_count": 2,
      "outputs": []
    },
    {
      "cell_type": "code",
      "source": [
        "import numpy as np"
      ],
      "metadata": {
        "id": "PUwf5XWHqpR1"
      },
      "execution_count": 3,
      "outputs": []
    },
    {
      "cell_type": "code",
      "source": [
        "diabetes = datasets.load_diabetes()"
      ],
      "metadata": {
        "id": "aYe3ydB9oQp7"
      },
      "execution_count": 4,
      "outputs": []
    },
    {
      "cell_type": "code",
      "source": [
        "print(diabetes.DESCR)"
      ],
      "metadata": {
        "colab": {
          "base_uri": "https://localhost:8080/"
        },
        "id": "tv9ubo8quxMD",
        "outputId": "712e4e94-8690-4883-db5a-6cd5ee6ac766"
      },
      "execution_count": 5,
      "outputs": [
        {
          "output_type": "stream",
          "name": "stdout",
          "text": [
            ".. _diabetes_dataset:\n",
            "\n",
            "Diabetes dataset\n",
            "----------------\n",
            "\n",
            "Ten baseline variables, age, sex, body mass index, average blood\n",
            "pressure, and six blood serum measurements were obtained for each of n =\n",
            "442 diabetes patients, as well as the response of interest, a\n",
            "quantitative measure of disease progression one year after baseline.\n",
            "\n",
            "**Data Set Characteristics:**\n",
            "\n",
            "  :Number of Instances: 442\n",
            "\n",
            "  :Number of Attributes: First 10 columns are numeric predictive values\n",
            "\n",
            "  :Target: Column 11 is a quantitative measure of disease progression one year after baseline\n",
            "\n",
            "  :Attribute Information:\n",
            "      - age     age in years\n",
            "      - sex\n",
            "      - bmi     body mass index\n",
            "      - bp      average blood pressure\n",
            "      - s1      tc, total serum cholesterol\n",
            "      - s2      ldl, low-density lipoproteins\n",
            "      - s3      hdl, high-density lipoproteins\n",
            "      - s4      tch, total cholesterol / HDL\n",
            "      - s5      ltg, possibly log of serum triglycerides level\n",
            "      - s6      glu, blood sugar level\n",
            "\n",
            "Note: Each of these 10 feature variables have been mean centered and scaled by the standard deviation times `n_samples` (i.e. the sum of squares of each column totals 1).\n",
            "\n",
            "Source URL:\n",
            "https://www4.stat.ncsu.edu/~boos/var.select/diabetes.html\n",
            "\n",
            "For more information see:\n",
            "Bradley Efron, Trevor Hastie, Iain Johnstone and Robert Tibshirani (2004) \"Least Angle Regression,\" Annals of Statistics (with discussion), 407-499.\n",
            "(https://web.stanford.edu/~hastie/Papers/LARS/LeastAngle_2002.pdf)\n"
          ]
        }
      ]
    },
    {
      "cell_type": "code",
      "source": [
        "X_train_full,X_test,y_train_full,y_test = train_test_split(diabetes.data,diabetes.target,random_state=43)"
      ],
      "metadata": {
        "id": "ekZfA5NSr22Z"
      },
      "execution_count": 6,
      "outputs": []
    },
    {
      "cell_type": "code",
      "source": [
        "#y_train_full[0]"
      ],
      "metadata": {
        "id": "corto3SpkDyB"
      },
      "execution_count": 7,
      "outputs": []
    },
    {
      "cell_type": "markdown",
      "source": [],
      "metadata": {
        "id": "Q_kwSy0uxx0t"
      }
    },
    {
      "cell_type": "code",
      "source": [
        "#print(y_test[np.argmax(y_test)])\n",
        "#print(y_train_full[np.argmax(y_train_full)])"
      ],
      "metadata": {
        "id": "-tBaBtaWxwWf"
      },
      "execution_count": 8,
      "outputs": []
    },
    {
      "cell_type": "code",
      "source": [
        "y_max=346.0"
      ],
      "metadata": {
        "id": "EIVb6xBbJh2Q"
      },
      "execution_count": 9,
      "outputs": []
    },
    {
      "cell_type": "markdown",
      "source": [],
      "metadata": {
        "id": "RoHmr-F6xzji"
      }
    },
    {
      "cell_type": "code",
      "source": [
        "#max_y=y_train_full[np.argmax(y_train_full)]\n",
        "y_train_full=y_train_full/y_max\n",
        "y_test = y_test /y_max"
      ],
      "metadata": {
        "id": "N55BuZ-a1FIr"
      },
      "execution_count": 10,
      "outputs": []
    },
    {
      "cell_type": "code",
      "source": [
        "X_train,X_valid,y_train,y_valid = train_test_split(X_train_full,y_train_full,random_state=23)"
      ],
      "metadata": {
        "id": "Lj3KPlHHr6iv"
      },
      "execution_count": 11,
      "outputs": []
    },
    {
      "cell_type": "code",
      "source": [
        "print(X_train[0])"
      ],
      "metadata": {
        "colab": {
          "base_uri": "https://localhost:8080/"
        },
        "id": "vU9a7a2u_HPv",
        "outputId": "b7dd182a-8e6c-4fc9-9ba1-e81fa8bff0f1"
      },
      "execution_count": 12,
      "outputs": [
        {
          "output_type": "stream",
          "name": "stdout",
          "text": [
            "[ 0.01628068 -0.04464164  0.07355214 -0.04124694 -0.00432087 -0.01352667\n",
            " -0.01394774 -0.00111622  0.04289569  0.04448548]\n"
          ]
        }
      ]
    },
    {
      "cell_type": "markdown",
      "source": [
        "array([ 0.01628068, -0.04464164,  0.07355214, -0.04124694, -0.00432087,\n",
        "       -0.01352667, -0.01394774, -0.00111622,  0.04289569,  0.04448548])\n",
        "\n"
      ],
      "metadata": {
        "id": "wnQ0cxjLxAsn"
      }
    },
    {
      "cell_type": "code",
      "source": [
        "X_train[0]"
      ],
      "metadata": {
        "colab": {
          "base_uri": "https://localhost:8080/"
        },
        "id": "CA88lsC3wyyi",
        "outputId": "d889a098-3394-4abc-b2e1-c29aa820f6c9"
      },
      "execution_count": 13,
      "outputs": [
        {
          "output_type": "execute_result",
          "data": {
            "text/plain": [
              "array([ 0.01628068, -0.04464164,  0.07355214, -0.04124694, -0.00432087,\n",
              "       -0.01352667, -0.01394774, -0.00111622,  0.04289569,  0.04448548])"
            ]
          },
          "metadata": {},
          "execution_count": 13
        }
      ]
    },
    {
      "cell_type": "code",
      "source": [
        "#scaler = StandardScaler()"
      ],
      "metadata": {
        "id": "Yc6YdUfUsY6v"
      },
      "execution_count": 14,
      "outputs": []
    },
    {
      "cell_type": "code",
      "source": [
        "#X_train = scaler.fit_transform(X_train)\n",
        "#X_valid = scaler.transform(X_valid)\n",
        "#X_test = scaler.transform(X_test)"
      ],
      "metadata": {
        "id": "lFUjM81qsdWq"
      },
      "execution_count": 15,
      "outputs": []
    },
    {
      "cell_type": "code",
      "source": [
        "#y_valid[np.argmax(y_valid)]"
      ],
      "metadata": {
        "id": "c5v42nW11wiw"
      },
      "execution_count": 16,
      "outputs": []
    },
    {
      "cell_type": "code",
      "source": [
        "import tensorflow\n",
        "from tensorflow import keras\n",
        "from tensorflow.keras import layers"
      ],
      "metadata": {
        "id": "YJYEpOGrs6J1"
      },
      "execution_count": 17,
      "outputs": []
    },
    {
      "cell_type": "code",
      "source": [
        "tensorflow.keras.utils.set_random_seed(\n",
        "    45\n",
        ")"
      ],
      "metadata": {
        "id": "04BLB206lrRn"
      },
      "execution_count": 18,
      "outputs": []
    },
    {
      "cell_type": "code",
      "source": [
        "l_p=0.01\n",
        "neur=200\n",
        "drop=0.1\n",
        "model = keras.models.Sequential([\n",
        "    keras.layers.Dense(neur,input_shape=X_train.shape[1:]),\n",
        "    keras.layers.Dense(neur,activation='tanh',\n",
        "                       kernel_initializer='he_normal',\n",
        "                       kernel_regularizer=keras.regularizers.l2(l_p)\n",
        "                       ),\n",
        "    keras.layers.Dropout(rate=drop),\n",
        "    keras.layers.Dense(neur,activation='elu',\n",
        "                       kernel_initializer='he_normal',\n",
        "                       kernel_regularizer=keras.regularizers.l2(l_p)\n",
        "                       ),\n",
        "    keras.layers.Dropout(rate=drop),\n",
        "    keras.layers.Dense(neur,activation='elu',\n",
        "                       kernel_initializer='he_normal',\n",
        "                       kernel_regularizer=keras.regularizers.l2(l_p)\n",
        "                       ),\n",
        "    keras.layers.Dropout(rate=drop),\n",
        "    keras.layers.Dense(1,)\n",
        "])"
      ],
      "metadata": {
        "id": "JkQWi3rxsv5a"
      },
      "execution_count": 19,
      "outputs": []
    },
    {
      "cell_type": "code",
      "source": [
        "#model.compile(loss='mean_squared_error',optimizer='sgd')\n",
        "#model.compile(loss='mean_squared_error',optimizer='sgd',metrics=['accuracy'])\n",
        "model.compile(optimizer='adam',loss='mean_absolute_error', metrics=['mean_absolute_error'])\n",
        "#mean_absolute_error"
      ],
      "metadata": {
        "id": "Wv2ZcmGqtV61"
      },
      "execution_count": 20,
      "outputs": []
    },
    {
      "cell_type": "code",
      "source": [
        "history = model.fit(X_train,y_train,epochs=200,validation_data=(X_valid,y_valid))#,validation_data=(X_valid,y_valid))"
      ],
      "metadata": {
        "colab": {
          "base_uri": "https://localhost:8080/"
        },
        "id": "a7ZOjuj9tfMA",
        "outputId": "9bac81ed-db87-41d7-81aa-b0f09935dc31"
      },
      "execution_count": 21,
      "outputs": [
        {
          "output_type": "stream",
          "name": "stdout",
          "text": [
            "Epoch 1/200\n",
            "8/8 [==============================] - 3s 70ms/step - loss: 11.6038 - mean_absolute_error: 0.2724 - val_loss: 10.7219 - val_mean_absolute_error: 0.1912\n",
            "Epoch 2/200\n",
            "8/8 [==============================] - 0s 18ms/step - loss: 10.1357 - mean_absolute_error: 0.1481 - val_loss: 9.4099 - val_mean_absolute_error: 0.1393\n",
            "Epoch 3/200\n",
            "8/8 [==============================] - 0s 16ms/step - loss: 8.9216 - mean_absolute_error: 0.1433 - val_loss: 8.2597 - val_mean_absolute_error: 0.1274\n",
            "Epoch 4/200\n",
            "8/8 [==============================] - 0s 14ms/step - loss: 7.8294 - mean_absolute_error: 0.1363 - val_loss: 7.2420 - val_mean_absolute_error: 0.1230\n",
            "Epoch 5/200\n",
            "8/8 [==============================] - 0s 21ms/step - loss: 6.8653 - mean_absolute_error: 0.1340 - val_loss: 6.3479 - val_mean_absolute_error: 0.1245\n",
            "Epoch 6/200\n",
            "8/8 [==============================] - 0s 18ms/step - loss: 6.0103 - mean_absolute_error: 0.1305 - val_loss: 5.5590 - val_mean_absolute_error: 0.1267\n",
            "Epoch 7/200\n",
            "8/8 [==============================] - 0s 17ms/step - loss: 5.2656 - mean_absolute_error: 0.1346 - val_loss: 4.8689 - val_mean_absolute_error: 0.1306\n",
            "Epoch 8/200\n",
            "8/8 [==============================] - 0s 13ms/step - loss: 4.6045 - mean_absolute_error: 0.1292 - val_loss: 4.2598 - val_mean_absolute_error: 0.1277\n",
            "Epoch 9/200\n",
            "8/8 [==============================] - 0s 12ms/step - loss: 4.0286 - mean_absolute_error: 0.1282 - val_loss: 3.7315 - val_mean_absolute_error: 0.1318\n",
            "Epoch 10/200\n",
            "8/8 [==============================] - 0s 14ms/step - loss: 3.5279 - mean_absolute_error: 0.1305 - val_loss: 3.2581 - val_mean_absolute_error: 0.1246\n",
            "Epoch 11/200\n",
            "8/8 [==============================] - 0s 17ms/step - loss: 3.0868 - mean_absolute_error: 0.1304 - val_loss: 2.8498 - val_mean_absolute_error: 0.1236\n",
            "Epoch 12/200\n",
            "8/8 [==============================] - 0s 17ms/step - loss: 2.7003 - mean_absolute_error: 0.1295 - val_loss: 2.4930 - val_mean_absolute_error: 0.1237\n",
            "Epoch 13/200\n",
            "8/8 [==============================] - 0s 16ms/step - loss: 2.3630 - mean_absolute_error: 0.1285 - val_loss: 2.1821 - val_mean_absolute_error: 0.1240\n",
            "Epoch 14/200\n",
            "8/8 [==============================] - 0s 18ms/step - loss: 2.0681 - mean_absolute_error: 0.1286 - val_loss: 1.9094 - val_mean_absolute_error: 0.1232\n",
            "Epoch 15/200\n",
            "8/8 [==============================] - 0s 18ms/step - loss: 1.8113 - mean_absolute_error: 0.1284 - val_loss: 1.6735 - val_mean_absolute_error: 0.1238\n",
            "Epoch 16/200\n",
            "8/8 [==============================] - 0s 14ms/step - loss: 1.5939 - mean_absolute_error: 0.1328 - val_loss: 1.4679 - val_mean_absolute_error: 0.1243\n",
            "Epoch 17/200\n",
            "8/8 [==============================] - 0s 13ms/step - loss: 1.3923 - mean_absolute_error: 0.1273 - val_loss: 1.2856 - val_mean_absolute_error: 0.1228\n",
            "Epoch 18/200\n",
            "8/8 [==============================] - 0s 13ms/step - loss: 1.2247 - mean_absolute_error: 0.1309 - val_loss: 1.1304 - val_mean_absolute_error: 0.1253\n",
            "Epoch 19/200\n",
            "8/8 [==============================] - 0s 18ms/step - loss: 1.0766 - mean_absolute_error: 0.1290 - val_loss: 0.9982 - val_mean_absolute_error: 0.1261\n",
            "Epoch 20/200\n",
            "8/8 [==============================] - 0s 24ms/step - loss: 0.9457 - mean_absolute_error: 0.1269 - val_loss: 0.8761 - val_mean_absolute_error: 0.1254\n",
            "Epoch 21/200\n",
            "8/8 [==============================] - 0s 17ms/step - loss: 0.8353 - mean_absolute_error: 0.1292 - val_loss: 0.7734 - val_mean_absolute_error: 0.1244\n",
            "Epoch 22/200\n",
            "8/8 [==============================] - 0s 17ms/step - loss: 0.7398 - mean_absolute_error: 0.1288 - val_loss: 0.6874 - val_mean_absolute_error: 0.1275\n",
            "Epoch 23/200\n",
            "8/8 [==============================] - 0s 15ms/step - loss: 0.6632 - mean_absolute_error: 0.1372 - val_loss: 0.6137 - val_mean_absolute_error: 0.1299\n",
            "Epoch 24/200\n",
            "8/8 [==============================] - 0s 20ms/step - loss: 0.5839 - mean_absolute_error: 0.1285 - val_loss: 0.5474 - val_mean_absolute_error: 0.1298\n",
            "Epoch 25/200\n",
            "8/8 [==============================] - 0s 15ms/step - loss: 0.5215 - mean_absolute_error: 0.1298 - val_loss: 0.4906 - val_mean_absolute_error: 0.1309\n",
            "Epoch 26/200\n",
            "8/8 [==============================] - 0s 12ms/step - loss: 0.4686 - mean_absolute_error: 0.1306 - val_loss: 0.4343 - val_mean_absolute_error: 0.1243\n",
            "Epoch 27/200\n",
            "8/8 [==============================] - 0s 19ms/step - loss: 0.4203 - mean_absolute_error: 0.1293 - val_loss: 0.3914 - val_mean_absolute_error: 0.1241\n",
            "Epoch 28/200\n",
            "8/8 [==============================] - 0s 18ms/step - loss: 0.3886 - mean_absolute_error: 0.1365 - val_loss: 0.3563 - val_mean_absolute_error: 0.1265\n",
            "Epoch 29/200\n",
            "8/8 [==============================] - 0s 16ms/step - loss: 0.3492 - mean_absolute_error: 0.1334 - val_loss: 0.3227 - val_mean_absolute_error: 0.1252\n",
            "Epoch 30/200\n",
            "8/8 [==============================] - 0s 19ms/step - loss: 0.3181 - mean_absolute_error: 0.1327 - val_loss: 0.2951 - val_mean_absolute_error: 0.1244\n",
            "Epoch 31/200\n",
            "8/8 [==============================] - 0s 14ms/step - loss: 0.2928 - mean_absolute_error: 0.1309 - val_loss: 0.2762 - val_mean_absolute_error: 0.1260\n",
            "Epoch 32/200\n",
            "8/8 [==============================] - 0s 16ms/step - loss: 0.2687 - mean_absolute_error: 0.1282 - val_loss: 0.2520 - val_mean_absolute_error: 0.1234\n",
            "Epoch 33/200\n",
            "8/8 [==============================] - 0s 15ms/step - loss: 0.2469 - mean_absolute_error: 0.1260 - val_loss: 0.2347 - val_mean_absolute_error: 0.1230\n",
            "Epoch 34/200\n",
            "8/8 [==============================] - 0s 14ms/step - loss: 0.2337 - mean_absolute_error: 0.1276 - val_loss: 0.2220 - val_mean_absolute_error: 0.1237\n",
            "Epoch 35/200\n",
            "8/8 [==============================] - 0s 16ms/step - loss: 0.2193 - mean_absolute_error: 0.1260 - val_loss: 0.2102 - val_mean_absolute_error: 0.1242\n",
            "Epoch 36/200\n",
            "8/8 [==============================] - 0s 21ms/step - loss: 0.2090 - mean_absolute_error: 0.1293 - val_loss: 0.1991 - val_mean_absolute_error: 0.1257\n",
            "Epoch 37/200\n",
            "8/8 [==============================] - 0s 23ms/step - loss: 0.1999 - mean_absolute_error: 0.1291 - val_loss: 0.1911 - val_mean_absolute_error: 0.1246\n",
            "Epoch 38/200\n",
            "8/8 [==============================] - 0s 16ms/step - loss: 0.1899 - mean_absolute_error: 0.1277 - val_loss: 0.1816 - val_mean_absolute_error: 0.1252\n",
            "Epoch 39/200\n",
            "8/8 [==============================] - 0s 14ms/step - loss: 0.1859 - mean_absolute_error: 0.1329 - val_loss: 0.1745 - val_mean_absolute_error: 0.1232\n",
            "Epoch 40/200\n",
            "8/8 [==============================] - 0s 15ms/step - loss: 0.1766 - mean_absolute_error: 0.1261 - val_loss: 0.1710 - val_mean_absolute_error: 0.1239\n",
            "Epoch 41/200\n",
            "8/8 [==============================] - 0s 18ms/step - loss: 0.1722 - mean_absolute_error: 0.1278 - val_loss: 0.1652 - val_mean_absolute_error: 0.1236\n",
            "Epoch 42/200\n",
            "8/8 [==============================] - 0s 14ms/step - loss: 0.1672 - mean_absolute_error: 0.1279 - val_loss: 0.1603 - val_mean_absolute_error: 0.1235\n",
            "Epoch 43/200\n",
            "8/8 [==============================] - 0s 19ms/step - loss: 0.1630 - mean_absolute_error: 0.1272 - val_loss: 0.1576 - val_mean_absolute_error: 0.1231\n",
            "Epoch 44/200\n",
            "8/8 [==============================] - 0s 11ms/step - loss: 0.1601 - mean_absolute_error: 0.1273 - val_loss: 0.1539 - val_mean_absolute_error: 0.1228\n",
            "Epoch 45/200\n",
            "8/8 [==============================] - 0s 17ms/step - loss: 0.1574 - mean_absolute_error: 0.1265 - val_loss: 0.1543 - val_mean_absolute_error: 0.1243\n",
            "Epoch 46/200\n",
            "8/8 [==============================] - 0s 18ms/step - loss: 0.1552 - mean_absolute_error: 0.1259 - val_loss: 0.1526 - val_mean_absolute_error: 0.1245\n",
            "Epoch 47/200\n",
            "8/8 [==============================] - 0s 20ms/step - loss: 0.1553 - mean_absolute_error: 0.1299 - val_loss: 0.1500 - val_mean_absolute_error: 0.1262\n",
            "Epoch 48/200\n",
            "8/8 [==============================] - 0s 15ms/step - loss: 0.1502 - mean_absolute_error: 0.1260 - val_loss: 0.1516 - val_mean_absolute_error: 0.1258\n",
            "Epoch 49/200\n",
            "8/8 [==============================] - 0s 15ms/step - loss: 0.1535 - mean_absolute_error: 0.1279 - val_loss: 0.1452 - val_mean_absolute_error: 0.1230\n",
            "Epoch 50/200\n",
            "8/8 [==============================] - 0s 20ms/step - loss: 0.1515 - mean_absolute_error: 0.1304 - val_loss: 0.1440 - val_mean_absolute_error: 0.1227\n",
            "Epoch 51/200\n",
            "8/8 [==============================] - 0s 15ms/step - loss: 0.1491 - mean_absolute_error: 0.1267 - val_loss: 0.1471 - val_mean_absolute_error: 0.1249\n",
            "Epoch 52/200\n",
            "8/8 [==============================] - 0s 28ms/step - loss: 0.1500 - mean_absolute_error: 0.1289 - val_loss: 0.1432 - val_mean_absolute_error: 0.1234\n",
            "Epoch 53/200\n",
            "8/8 [==============================] - 0s 18ms/step - loss: 0.1505 - mean_absolute_error: 0.1307 - val_loss: 0.1453 - val_mean_absolute_error: 0.1252\n",
            "Epoch 54/200\n",
            "8/8 [==============================] - 0s 19ms/step - loss: 0.1479 - mean_absolute_error: 0.1293 - val_loss: 0.1438 - val_mean_absolute_error: 0.1267\n",
            "Epoch 55/200\n",
            "8/8 [==============================] - 0s 18ms/step - loss: 0.1485 - mean_absolute_error: 0.1305 - val_loss: 0.1463 - val_mean_absolute_error: 0.1267\n",
            "Epoch 56/200\n",
            "8/8 [==============================] - 0s 14ms/step - loss: 0.1469 - mean_absolute_error: 0.1265 - val_loss: 0.1443 - val_mean_absolute_error: 0.1276\n",
            "Epoch 57/200\n",
            "8/8 [==============================] - 0s 14ms/step - loss: 0.1513 - mean_absolute_error: 0.1367 - val_loss: 0.1478 - val_mean_absolute_error: 0.1331\n",
            "Epoch 58/200\n",
            "8/8 [==============================] - 0s 18ms/step - loss: 0.1468 - mean_absolute_error: 0.1296 - val_loss: 0.1511 - val_mean_absolute_error: 0.1307\n",
            "Epoch 59/200\n",
            "8/8 [==============================] - 0s 12ms/step - loss: 0.1475 - mean_absolute_error: 0.1283 - val_loss: 0.1446 - val_mean_absolute_error: 0.1292\n",
            "Epoch 60/200\n",
            "8/8 [==============================] - 0s 12ms/step - loss: 0.1470 - mean_absolute_error: 0.1319 - val_loss: 0.1396 - val_mean_absolute_error: 0.1233\n",
            "Epoch 61/200\n",
            "8/8 [==============================] - 0s 13ms/step - loss: 0.1431 - mean_absolute_error: 0.1253 - val_loss: 0.1478 - val_mean_absolute_error: 0.1286\n",
            "Epoch 62/200\n",
            "8/8 [==============================] - 0s 13ms/step - loss: 0.1462 - mean_absolute_error: 0.1282 - val_loss: 0.1390 - val_mean_absolute_error: 0.1225\n",
            "Epoch 63/200\n",
            "8/8 [==============================] - 0s 13ms/step - loss: 0.1460 - mean_absolute_error: 0.1288 - val_loss: 0.1404 - val_mean_absolute_error: 0.1235\n",
            "Epoch 64/200\n",
            "8/8 [==============================] - 0s 20ms/step - loss: 0.1422 - mean_absolute_error: 0.1264 - val_loss: 0.1394 - val_mean_absolute_error: 0.1232\n",
            "Epoch 65/200\n",
            "8/8 [==============================] - 0s 12ms/step - loss: 0.1418 - mean_absolute_error: 0.1254 - val_loss: 0.1407 - val_mean_absolute_error: 0.1239\n",
            "Epoch 66/200\n",
            "8/8 [==============================] - 0s 14ms/step - loss: 0.1432 - mean_absolute_error: 0.1266 - val_loss: 0.1404 - val_mean_absolute_error: 0.1237\n",
            "Epoch 67/200\n",
            "8/8 [==============================] - 0s 21ms/step - loss: 0.1435 - mean_absolute_error: 0.1269 - val_loss: 0.1389 - val_mean_absolute_error: 0.1232\n",
            "Epoch 68/200\n",
            "8/8 [==============================] - 0s 20ms/step - loss: 0.1455 - mean_absolute_error: 0.1295 - val_loss: 0.1391 - val_mean_absolute_error: 0.1235\n",
            "Epoch 69/200\n",
            "8/8 [==============================] - 0s 14ms/step - loss: 0.1426 - mean_absolute_error: 0.1269 - val_loss: 0.1394 - val_mean_absolute_error: 0.1244\n",
            "Epoch 70/200\n",
            "8/8 [==============================] - 0s 13ms/step - loss: 0.1421 - mean_absolute_error: 0.1274 - val_loss: 0.1420 - val_mean_absolute_error: 0.1258\n",
            "Epoch 71/200\n",
            "8/8 [==============================] - 0s 13ms/step - loss: 0.1423 - mean_absolute_error: 0.1258 - val_loss: 0.1389 - val_mean_absolute_error: 0.1231\n",
            "Epoch 72/200\n",
            "8/8 [==============================] - 0s 20ms/step - loss: 0.1465 - mean_absolute_error: 0.1322 - val_loss: 0.1448 - val_mean_absolute_error: 0.1317\n",
            "Epoch 73/200\n",
            "8/8 [==============================] - 0s 21ms/step - loss: 0.1483 - mean_absolute_error: 0.1337 - val_loss: 0.1398 - val_mean_absolute_error: 0.1240\n",
            "Epoch 74/200\n",
            "8/8 [==============================] - 0s 17ms/step - loss: 0.1482 - mean_absolute_error: 0.1326 - val_loss: 0.1391 - val_mean_absolute_error: 0.1238\n",
            "Epoch 75/200\n",
            "8/8 [==============================] - 0s 18ms/step - loss: 0.1474 - mean_absolute_error: 0.1326 - val_loss: 0.1378 - val_mean_absolute_error: 0.1232\n",
            "Epoch 76/200\n",
            "8/8 [==============================] - 0s 23ms/step - loss: 0.1409 - mean_absolute_error: 0.1265 - val_loss: 0.1423 - val_mean_absolute_error: 0.1266\n",
            "Epoch 77/200\n",
            "8/8 [==============================] - 0s 18ms/step - loss: 0.1455 - mean_absolute_error: 0.1290 - val_loss: 0.1391 - val_mean_absolute_error: 0.1237\n",
            "Epoch 78/200\n",
            "8/8 [==============================] - 0s 19ms/step - loss: 0.1440 - mean_absolute_error: 0.1298 - val_loss: 0.1378 - val_mean_absolute_error: 0.1240\n",
            "Epoch 79/200\n",
            "8/8 [==============================] - 0s 16ms/step - loss: 0.1431 - mean_absolute_error: 0.1285 - val_loss: 0.1413 - val_mean_absolute_error: 0.1260\n",
            "Epoch 80/200\n",
            "8/8 [==============================] - 0s 15ms/step - loss: 0.1412 - mean_absolute_error: 0.1258 - val_loss: 0.1379 - val_mean_absolute_error: 0.1235\n",
            "Epoch 81/200\n",
            "8/8 [==============================] - 0s 17ms/step - loss: 0.1433 - mean_absolute_error: 0.1296 - val_loss: 0.1381 - val_mean_absolute_error: 0.1239\n",
            "Epoch 82/200\n",
            "8/8 [==============================] - 0s 17ms/step - loss: 0.1399 - mean_absolute_error: 0.1252 - val_loss: 0.1432 - val_mean_absolute_error: 0.1271\n",
            "Epoch 83/200\n",
            "8/8 [==============================] - 0s 12ms/step - loss: 0.1429 - mean_absolute_error: 0.1277 - val_loss: 0.1373 - val_mean_absolute_error: 0.1235\n",
            "Epoch 84/200\n",
            "8/8 [==============================] - 0s 17ms/step - loss: 0.1442 - mean_absolute_error: 0.1294 - val_loss: 0.1368 - val_mean_absolute_error: 0.1226\n",
            "Epoch 85/200\n",
            "8/8 [==============================] - 0s 14ms/step - loss: 0.1413 - mean_absolute_error: 0.1273 - val_loss: 0.1374 - val_mean_absolute_error: 0.1230\n",
            "Epoch 86/200\n",
            "8/8 [==============================] - 0s 14ms/step - loss: 0.1398 - mean_absolute_error: 0.1255 - val_loss: 0.1386 - val_mean_absolute_error: 0.1237\n",
            "Epoch 87/200\n",
            "8/8 [==============================] - 0s 16ms/step - loss: 0.1412 - mean_absolute_error: 0.1263 - val_loss: 0.1385 - val_mean_absolute_error: 0.1242\n",
            "Epoch 88/200\n",
            "8/8 [==============================] - 0s 13ms/step - loss: 0.1431 - mean_absolute_error: 0.1287 - val_loss: 0.1375 - val_mean_absolute_error: 0.1232\n",
            "Epoch 89/200\n",
            "8/8 [==============================] - 0s 13ms/step - loss: 0.1397 - mean_absolute_error: 0.1257 - val_loss: 0.1372 - val_mean_absolute_error: 0.1239\n",
            "Epoch 90/200\n",
            "8/8 [==============================] - 0s 13ms/step - loss: 0.1409 - mean_absolute_error: 0.1268 - val_loss: 0.1388 - val_mean_absolute_error: 0.1243\n",
            "Epoch 91/200\n",
            "8/8 [==============================] - 0s 15ms/step - loss: 0.1431 - mean_absolute_error: 0.1301 - val_loss: 0.1375 - val_mean_absolute_error: 0.1249\n",
            "Epoch 92/200\n",
            "8/8 [==============================] - 0s 12ms/step - loss: 0.1410 - mean_absolute_error: 0.1267 - val_loss: 0.1411 - val_mean_absolute_error: 0.1261\n",
            "Epoch 93/200\n",
            "8/8 [==============================] - 0s 16ms/step - loss: 0.1450 - mean_absolute_error: 0.1325 - val_loss: 0.1397 - val_mean_absolute_error: 0.1279\n",
            "Epoch 94/200\n",
            "8/8 [==============================] - 0s 15ms/step - loss: 0.1467 - mean_absolute_error: 0.1325 - val_loss: 0.1415 - val_mean_absolute_error: 0.1267\n",
            "Epoch 95/200\n",
            "8/8 [==============================] - 0s 21ms/step - loss: 0.1427 - mean_absolute_error: 0.1295 - val_loss: 0.1369 - val_mean_absolute_error: 0.1239\n",
            "Epoch 96/200\n",
            "8/8 [==============================] - 0s 16ms/step - loss: 0.1405 - mean_absolute_error: 0.1271 - val_loss: 0.1466 - val_mean_absolute_error: 0.1312\n",
            "Epoch 97/200\n",
            "8/8 [==============================] - 0s 13ms/step - loss: 0.1474 - mean_absolute_error: 0.1323 - val_loss: 0.1376 - val_mean_absolute_error: 0.1249\n",
            "Epoch 98/200\n",
            "8/8 [==============================] - 0s 28ms/step - loss: 0.1405 - mean_absolute_error: 0.1276 - val_loss: 0.1374 - val_mean_absolute_error: 0.1240\n",
            "Epoch 99/200\n",
            "8/8 [==============================] - 0s 18ms/step - loss: 0.1382 - mean_absolute_error: 0.1245 - val_loss: 0.1389 - val_mean_absolute_error: 0.1249\n",
            "Epoch 100/200\n",
            "8/8 [==============================] - 0s 23ms/step - loss: 0.1404 - mean_absolute_error: 0.1265 - val_loss: 0.1364 - val_mean_absolute_error: 0.1232\n",
            "Epoch 101/200\n",
            "8/8 [==============================] - 0s 27ms/step - loss: 0.1366 - mean_absolute_error: 0.1235 - val_loss: 0.1379 - val_mean_absolute_error: 0.1242\n",
            "Epoch 102/200\n",
            "8/8 [==============================] - 0s 27ms/step - loss: 0.1404 - mean_absolute_error: 0.1267 - val_loss: 0.1369 - val_mean_absolute_error: 0.1246\n",
            "Epoch 103/200\n",
            "8/8 [==============================] - 0s 32ms/step - loss: 0.1527 - mean_absolute_error: 0.1417 - val_loss: 0.1377 - val_mean_absolute_error: 0.1258\n",
            "Epoch 104/200\n",
            "8/8 [==============================] - 0s 18ms/step - loss: 0.1442 - mean_absolute_error: 0.1297 - val_loss: 0.1535 - val_mean_absolute_error: 0.1386\n",
            "Epoch 105/200\n",
            "8/8 [==============================] - 0s 18ms/step - loss: 0.1439 - mean_absolute_error: 0.1310 - val_loss: 0.1386 - val_mean_absolute_error: 0.1264\n",
            "Epoch 106/200\n",
            "8/8 [==============================] - 0s 18ms/step - loss: 0.1411 - mean_absolute_error: 0.1287 - val_loss: 0.1427 - val_mean_absolute_error: 0.1302\n",
            "Epoch 107/200\n",
            "8/8 [==============================] - 0s 16ms/step - loss: 0.1448 - mean_absolute_error: 0.1312 - val_loss: 0.1390 - val_mean_absolute_error: 0.1253\n",
            "Epoch 108/200\n",
            "8/8 [==============================] - 0s 22ms/step - loss: 0.1377 - mean_absolute_error: 0.1240 - val_loss: 0.1365 - val_mean_absolute_error: 0.1246\n",
            "Epoch 109/200\n",
            "8/8 [==============================] - 0s 11ms/step - loss: 0.1416 - mean_absolute_error: 0.1305 - val_loss: 0.1353 - val_mean_absolute_error: 0.1233\n",
            "Epoch 110/200\n",
            "8/8 [==============================] - 0s 18ms/step - loss: 0.1401 - mean_absolute_error: 0.1273 - val_loss: 0.1369 - val_mean_absolute_error: 0.1239\n",
            "Epoch 111/200\n",
            "8/8 [==============================] - 0s 13ms/step - loss: 0.1393 - mean_absolute_error: 0.1262 - val_loss: 0.1392 - val_mean_absolute_error: 0.1265\n",
            "Epoch 112/200\n",
            "8/8 [==============================] - 0s 13ms/step - loss: 0.1417 - mean_absolute_error: 0.1285 - val_loss: 0.1385 - val_mean_absolute_error: 0.1251\n",
            "Epoch 113/200\n",
            "8/8 [==============================] - 0s 17ms/step - loss: 0.1400 - mean_absolute_error: 0.1279 - val_loss: 0.1385 - val_mean_absolute_error: 0.1278\n",
            "Epoch 114/200\n",
            "8/8 [==============================] - 0s 15ms/step - loss: 0.1388 - mean_absolute_error: 0.1272 - val_loss: 0.1386 - val_mean_absolute_error: 0.1253\n",
            "Epoch 115/200\n",
            "8/8 [==============================] - 0s 25ms/step - loss: 0.1401 - mean_absolute_error: 0.1272 - val_loss: 0.1377 - val_mean_absolute_error: 0.1261\n",
            "Epoch 116/200\n",
            "8/8 [==============================] - 0s 19ms/step - loss: 0.1412 - mean_absolute_error: 0.1299 - val_loss: 0.1372 - val_mean_absolute_error: 0.1244\n",
            "Epoch 117/200\n",
            "8/8 [==============================] - 0s 21ms/step - loss: 0.1413 - mean_absolute_error: 0.1279 - val_loss: 0.1356 - val_mean_absolute_error: 0.1235\n",
            "Epoch 118/200\n",
            "8/8 [==============================] - 0s 21ms/step - loss: 0.1399 - mean_absolute_error: 0.1275 - val_loss: 0.1349 - val_mean_absolute_error: 0.1234\n",
            "Epoch 119/200\n",
            "8/8 [==============================] - 0s 20ms/step - loss: 0.1425 - mean_absolute_error: 0.1315 - val_loss: 0.1351 - val_mean_absolute_error: 0.1231\n",
            "Epoch 120/200\n",
            "8/8 [==============================] - 0s 16ms/step - loss: 0.1400 - mean_absolute_error: 0.1276 - val_loss: 0.1350 - val_mean_absolute_error: 0.1231\n",
            "Epoch 121/200\n",
            "8/8 [==============================] - 0s 15ms/step - loss: 0.1466 - mean_absolute_error: 0.1333 - val_loss: 0.1390 - val_mean_absolute_error: 0.1259\n",
            "Epoch 122/200\n",
            "8/8 [==============================] - 0s 15ms/step - loss: 0.1428 - mean_absolute_error: 0.1312 - val_loss: 0.1413 - val_mean_absolute_error: 0.1316\n",
            "Epoch 123/200\n",
            "8/8 [==============================] - 0s 12ms/step - loss: 0.1426 - mean_absolute_error: 0.1316 - val_loss: 0.1388 - val_mean_absolute_error: 0.1258\n",
            "Epoch 124/200\n",
            "8/8 [==============================] - 0s 14ms/step - loss: 0.1405 - mean_absolute_error: 0.1270 - val_loss: 0.1350 - val_mean_absolute_error: 0.1231\n",
            "Epoch 125/200\n",
            "8/8 [==============================] - 0s 17ms/step - loss: 0.1413 - mean_absolute_error: 0.1307 - val_loss: 0.1360 - val_mean_absolute_error: 0.1252\n",
            "Epoch 126/200\n",
            "8/8 [==============================] - 0s 14ms/step - loss: 0.1398 - mean_absolute_error: 0.1278 - val_loss: 0.1379 - val_mean_absolute_error: 0.1258\n",
            "Epoch 127/200\n",
            "8/8 [==============================] - 0s 29ms/step - loss: 0.1412 - mean_absolute_error: 0.1292 - val_loss: 0.1350 - val_mean_absolute_error: 0.1232\n",
            "Epoch 128/200\n",
            "8/8 [==============================] - 0s 13ms/step - loss: 0.1387 - mean_absolute_error: 0.1272 - val_loss: 0.1367 - val_mean_absolute_error: 0.1245\n",
            "Epoch 129/200\n",
            "8/8 [==============================] - 0s 15ms/step - loss: 0.1408 - mean_absolute_error: 0.1282 - val_loss: 0.1383 - val_mean_absolute_error: 0.1257\n",
            "Epoch 130/200\n",
            "8/8 [==============================] - 0s 16ms/step - loss: 0.1378 - mean_absolute_error: 0.1254 - val_loss: 0.1371 - val_mean_absolute_error: 0.1247\n",
            "Epoch 131/200\n",
            "8/8 [==============================] - 0s 21ms/step - loss: 0.1397 - mean_absolute_error: 0.1279 - val_loss: 0.1339 - val_mean_absolute_error: 0.1223\n",
            "Epoch 132/200\n",
            "8/8 [==============================] - 0s 14ms/step - loss: 0.1428 - mean_absolute_error: 0.1306 - val_loss: 0.1398 - val_mean_absolute_error: 0.1270\n",
            "Epoch 133/200\n",
            "8/8 [==============================] - 0s 8ms/step - loss: 0.1420 - mean_absolute_error: 0.1301 - val_loss: 0.1355 - val_mean_absolute_error: 0.1238\n",
            "Epoch 134/200\n",
            "8/8 [==============================] - 0s 8ms/step - loss: 0.1397 - mean_absolute_error: 0.1279 - val_loss: 0.1353 - val_mean_absolute_error: 0.1242\n",
            "Epoch 135/200\n",
            "8/8 [==============================] - 0s 8ms/step - loss: 0.1403 - mean_absolute_error: 0.1295 - val_loss: 0.1356 - val_mean_absolute_error: 0.1240\n",
            "Epoch 136/200\n",
            "8/8 [==============================] - 0s 8ms/step - loss: 0.1435 - mean_absolute_error: 0.1301 - val_loss: 0.1351 - val_mean_absolute_error: 0.1239\n",
            "Epoch 137/200\n",
            "8/8 [==============================] - 0s 8ms/step - loss: 0.1423 - mean_absolute_error: 0.1328 - val_loss: 0.1360 - val_mean_absolute_error: 0.1257\n",
            "Epoch 138/200\n",
            "8/8 [==============================] - 0s 8ms/step - loss: 0.1465 - mean_absolute_error: 0.1341 - val_loss: 0.1379 - val_mean_absolute_error: 0.1257\n",
            "Epoch 139/200\n",
            "8/8 [==============================] - 0s 10ms/step - loss: 0.1396 - mean_absolute_error: 0.1288 - val_loss: 0.1346 - val_mean_absolute_error: 0.1241\n",
            "Epoch 140/200\n",
            "8/8 [==============================] - 0s 7ms/step - loss: 0.1389 - mean_absolute_error: 0.1273 - val_loss: 0.1387 - val_mean_absolute_error: 0.1262\n",
            "Epoch 141/200\n",
            "8/8 [==============================] - 0s 9ms/step - loss: 0.1413 - mean_absolute_error: 0.1288 - val_loss: 0.1378 - val_mean_absolute_error: 0.1272\n",
            "Epoch 142/200\n",
            "8/8 [==============================] - 0s 10ms/step - loss: 0.1401 - mean_absolute_error: 0.1297 - val_loss: 0.1360 - val_mean_absolute_error: 0.1249\n",
            "Epoch 143/200\n",
            "8/8 [==============================] - 0s 10ms/step - loss: 0.1399 - mean_absolute_error: 0.1284 - val_loss: 0.1393 - val_mean_absolute_error: 0.1286\n",
            "Epoch 144/200\n",
            "8/8 [==============================] - 0s 11ms/step - loss: 0.1397 - mean_absolute_error: 0.1282 - val_loss: 0.1440 - val_mean_absolute_error: 0.1310\n",
            "Epoch 145/200\n",
            "8/8 [==============================] - 0s 12ms/step - loss: 0.1421 - mean_absolute_error: 0.1302 - val_loss: 0.1360 - val_mean_absolute_error: 0.1261\n",
            "Epoch 146/200\n",
            "8/8 [==============================] - 0s 8ms/step - loss: 0.1413 - mean_absolute_error: 0.1308 - val_loss: 0.1371 - val_mean_absolute_error: 0.1258\n",
            "Epoch 147/200\n",
            "8/8 [==============================] - 0s 7ms/step - loss: 0.1446 - mean_absolute_error: 0.1340 - val_loss: 0.1344 - val_mean_absolute_error: 0.1233\n",
            "Epoch 148/200\n",
            "8/8 [==============================] - 0s 8ms/step - loss: 0.1442 - mean_absolute_error: 0.1321 - val_loss: 0.1347 - val_mean_absolute_error: 0.1236\n",
            "Epoch 149/200\n",
            "8/8 [==============================] - 0s 7ms/step - loss: 0.1408 - mean_absolute_error: 0.1309 - val_loss: 0.1364 - val_mean_absolute_error: 0.1259\n",
            "Epoch 150/200\n",
            "8/8 [==============================] - 0s 8ms/step - loss: 0.1412 - mean_absolute_error: 0.1297 - val_loss: 0.1361 - val_mean_absolute_error: 0.1246\n",
            "Epoch 151/200\n",
            "8/8 [==============================] - 0s 9ms/step - loss: 0.1404 - mean_absolute_error: 0.1292 - val_loss: 0.1342 - val_mean_absolute_error: 0.1231\n",
            "Epoch 152/200\n",
            "8/8 [==============================] - 0s 9ms/step - loss: 0.1381 - mean_absolute_error: 0.1269 - val_loss: 0.1368 - val_mean_absolute_error: 0.1250\n",
            "Epoch 153/200\n",
            "8/8 [==============================] - 0s 7ms/step - loss: 0.1435 - mean_absolute_error: 0.1316 - val_loss: 0.1390 - val_mean_absolute_error: 0.1278\n",
            "Epoch 154/200\n",
            "8/8 [==============================] - 0s 7ms/step - loss: 0.1397 - mean_absolute_error: 0.1288 - val_loss: 0.1340 - val_mean_absolute_error: 0.1235\n",
            "Epoch 155/200\n",
            "8/8 [==============================] - 0s 8ms/step - loss: 0.1421 - mean_absolute_error: 0.1309 - val_loss: 0.1417 - val_mean_absolute_error: 0.1297\n",
            "Epoch 156/200\n",
            "8/8 [==============================] - 0s 7ms/step - loss: 0.1404 - mean_absolute_error: 0.1292 - val_loss: 0.1351 - val_mean_absolute_error: 0.1240\n",
            "Epoch 157/200\n",
            "8/8 [==============================] - 0s 7ms/step - loss: 0.1367 - mean_absolute_error: 0.1259 - val_loss: 0.1364 - val_mean_absolute_error: 0.1261\n",
            "Epoch 158/200\n",
            "8/8 [==============================] - 0s 8ms/step - loss: 0.1410 - mean_absolute_error: 0.1296 - val_loss: 0.1404 - val_mean_absolute_error: 0.1283\n",
            "Epoch 159/200\n",
            "8/8 [==============================] - 0s 9ms/step - loss: 0.1357 - mean_absolute_error: 0.1247 - val_loss: 0.1339 - val_mean_absolute_error: 0.1237\n",
            "Epoch 160/200\n",
            "8/8 [==============================] - 0s 10ms/step - loss: 0.1332 - mean_absolute_error: 0.1226 - val_loss: 0.1346 - val_mean_absolute_error: 0.1236\n",
            "Epoch 161/200\n",
            "8/8 [==============================] - 0s 12ms/step - loss: 0.1385 - mean_absolute_error: 0.1273 - val_loss: 0.1362 - val_mean_absolute_error: 0.1248\n",
            "Epoch 162/200\n",
            "8/8 [==============================] - 0s 8ms/step - loss: 0.1351 - mean_absolute_error: 0.1239 - val_loss: 0.1354 - val_mean_absolute_error: 0.1244\n",
            "Epoch 163/200\n",
            "8/8 [==============================] - 0s 8ms/step - loss: 0.1410 - mean_absolute_error: 0.1305 - val_loss: 0.1337 - val_mean_absolute_error: 0.1230\n",
            "Epoch 164/200\n",
            "8/8 [==============================] - 0s 8ms/step - loss: 0.1376 - mean_absolute_error: 0.1269 - val_loss: 0.1378 - val_mean_absolute_error: 0.1268\n",
            "Epoch 165/200\n",
            "8/8 [==============================] - 0s 8ms/step - loss: 0.1389 - mean_absolute_error: 0.1274 - val_loss: 0.1332 - val_mean_absolute_error: 0.1228\n",
            "Epoch 166/200\n",
            "8/8 [==============================] - 0s 8ms/step - loss: 0.1362 - mean_absolute_error: 0.1262 - val_loss: 0.1331 - val_mean_absolute_error: 0.1227\n",
            "Epoch 167/200\n",
            "8/8 [==============================] - 0s 10ms/step - loss: 0.1396 - mean_absolute_error: 0.1290 - val_loss: 0.1348 - val_mean_absolute_error: 0.1240\n",
            "Epoch 168/200\n",
            "8/8 [==============================] - 0s 10ms/step - loss: 0.1403 - mean_absolute_error: 0.1298 - val_loss: 0.1338 - val_mean_absolute_error: 0.1232\n",
            "Epoch 169/200\n",
            "8/8 [==============================] - 0s 10ms/step - loss: 0.1366 - mean_absolute_error: 0.1253 - val_loss: 0.1412 - val_mean_absolute_error: 0.1297\n",
            "Epoch 170/200\n",
            "8/8 [==============================] - 0s 8ms/step - loss: 0.1388 - mean_absolute_error: 0.1286 - val_loss: 0.1348 - val_mean_absolute_error: 0.1247\n",
            "Epoch 171/200\n",
            "8/8 [==============================] - 0s 10ms/step - loss: 0.1377 - mean_absolute_error: 0.1265 - val_loss: 0.1380 - val_mean_absolute_error: 0.1273\n",
            "Epoch 172/200\n",
            "8/8 [==============================] - 0s 9ms/step - loss: 0.1399 - mean_absolute_error: 0.1291 - val_loss: 0.1330 - val_mean_absolute_error: 0.1228\n",
            "Epoch 173/200\n",
            "8/8 [==============================] - 0s 8ms/step - loss: 0.1372 - mean_absolute_error: 0.1272 - val_loss: 0.1330 - val_mean_absolute_error: 0.1232\n",
            "Epoch 174/200\n",
            "8/8 [==============================] - 0s 8ms/step - loss: 0.1357 - mean_absolute_error: 0.1254 - val_loss: 0.1396 - val_mean_absolute_error: 0.1282\n",
            "Epoch 175/200\n",
            "8/8 [==============================] - 0s 8ms/step - loss: 0.1384 - mean_absolute_error: 0.1272 - val_loss: 0.1337 - val_mean_absolute_error: 0.1233\n",
            "Epoch 176/200\n",
            "8/8 [==============================] - 0s 8ms/step - loss: 0.1385 - mean_absolute_error: 0.1278 - val_loss: 0.1348 - val_mean_absolute_error: 0.1240\n",
            "Epoch 177/200\n",
            "8/8 [==============================] - 0s 9ms/step - loss: 0.1419 - mean_absolute_error: 0.1321 - val_loss: 0.1350 - val_mean_absolute_error: 0.1247\n",
            "Epoch 178/200\n",
            "8/8 [==============================] - 0s 8ms/step - loss: 0.1371 - mean_absolute_error: 0.1264 - val_loss: 0.1332 - val_mean_absolute_error: 0.1234\n",
            "Epoch 179/200\n",
            "8/8 [==============================] - 0s 9ms/step - loss: 0.1413 - mean_absolute_error: 0.1315 - val_loss: 0.1371 - val_mean_absolute_error: 0.1276\n",
            "Epoch 180/200\n",
            "8/8 [==============================] - 0s 10ms/step - loss: 0.1392 - mean_absolute_error: 0.1298 - val_loss: 0.1343 - val_mean_absolute_error: 0.1242\n",
            "Epoch 181/200\n",
            "8/8 [==============================] - 0s 10ms/step - loss: 0.1399 - mean_absolute_error: 0.1287 - val_loss: 0.1342 - val_mean_absolute_error: 0.1235\n",
            "Epoch 182/200\n",
            "8/8 [==============================] - 0s 7ms/step - loss: 0.1362 - mean_absolute_error: 0.1260 - val_loss: 0.1324 - val_mean_absolute_error: 0.1226\n",
            "Epoch 183/200\n",
            "8/8 [==============================] - 0s 8ms/step - loss: 0.1405 - mean_absolute_error: 0.1310 - val_loss: 0.1321 - val_mean_absolute_error: 0.1222\n",
            "Epoch 184/200\n",
            "8/8 [==============================] - 0s 8ms/step - loss: 0.1429 - mean_absolute_error: 0.1322 - val_loss: 0.1346 - val_mean_absolute_error: 0.1241\n",
            "Epoch 185/200\n",
            "8/8 [==============================] - 0s 9ms/step - loss: 0.1354 - mean_absolute_error: 0.1255 - val_loss: 0.1349 - val_mean_absolute_error: 0.1244\n",
            "Epoch 186/200\n",
            "8/8 [==============================] - 0s 9ms/step - loss: 0.1389 - mean_absolute_error: 0.1276 - val_loss: 0.1359 - val_mean_absolute_error: 0.1254\n",
            "Epoch 187/200\n",
            "8/8 [==============================] - 0s 8ms/step - loss: 0.1393 - mean_absolute_error: 0.1297 - val_loss: 0.1330 - val_mean_absolute_error: 0.1235\n",
            "Epoch 188/200\n",
            "8/8 [==============================] - 0s 11ms/step - loss: 0.1367 - mean_absolute_error: 0.1270 - val_loss: 0.1344 - val_mean_absolute_error: 0.1242\n",
            "Epoch 189/200\n",
            "8/8 [==============================] - 0s 8ms/step - loss: 0.1373 - mean_absolute_error: 0.1275 - val_loss: 0.1327 - val_mean_absolute_error: 0.1230\n",
            "Epoch 190/200\n",
            "8/8 [==============================] - 0s 8ms/step - loss: 0.1390 - mean_absolute_error: 0.1287 - val_loss: 0.1329 - val_mean_absolute_error: 0.1231\n",
            "Epoch 191/200\n",
            "8/8 [==============================] - 0s 8ms/step - loss: 0.1438 - mean_absolute_error: 0.1331 - val_loss: 0.1359 - val_mean_absolute_error: 0.1252\n",
            "Epoch 192/200\n",
            "8/8 [==============================] - 0s 7ms/step - loss: 0.1391 - mean_absolute_error: 0.1298 - val_loss: 0.1382 - val_mean_absolute_error: 0.1299\n",
            "Epoch 193/200\n",
            "8/8 [==============================] - 0s 9ms/step - loss: 0.1379 - mean_absolute_error: 0.1284 - val_loss: 0.1386 - val_mean_absolute_error: 0.1277\n",
            "Epoch 194/200\n",
            "8/8 [==============================] - 0s 9ms/step - loss: 0.1382 - mean_absolute_error: 0.1277 - val_loss: 0.1331 - val_mean_absolute_error: 0.1232\n",
            "Epoch 195/200\n",
            "8/8 [==============================] - 0s 8ms/step - loss: 0.1365 - mean_absolute_error: 0.1266 - val_loss: 0.1355 - val_mean_absolute_error: 0.1260\n",
            "Epoch 196/200\n",
            "8/8 [==============================] - 0s 8ms/step - loss: 0.1350 - mean_absolute_error: 0.1251 - val_loss: 0.1348 - val_mean_absolute_error: 0.1245\n",
            "Epoch 197/200\n",
            "8/8 [==============================] - 0s 8ms/step - loss: 0.1368 - mean_absolute_error: 0.1274 - val_loss: 0.1320 - val_mean_absolute_error: 0.1228\n",
            "Epoch 198/200\n",
            "8/8 [==============================] - 0s 8ms/step - loss: 0.1372 - mean_absolute_error: 0.1272 - val_loss: 0.1383 - val_mean_absolute_error: 0.1275\n",
            "Epoch 199/200\n",
            "8/8 [==============================] - 0s 10ms/step - loss: 0.1365 - mean_absolute_error: 0.1260 - val_loss: 0.1322 - val_mean_absolute_error: 0.1229\n",
            "Epoch 200/200\n",
            "8/8 [==============================] - 0s 8ms/step - loss: 0.1348 - mean_absolute_error: 0.1255 - val_loss: 0.1338 - val_mean_absolute_error: 0.1240\n"
          ]
        }
      ]
    },
    {
      "cell_type": "code",
      "source": [],
      "metadata": {
        "id": "am-s0mteLIjf"
      },
      "execution_count": 21,
      "outputs": []
    },
    {
      "cell_type": "code",
      "source": [
        "import matplotlib.pyplot as plt\n",
        "import pandas as pd\n",
        "pd.DataFrame(history.history).plot(figsize=(8,5))\n",
        "plt.grid(True)\n",
        "plt.gca().set_ylim(0,1)\n",
        "plt.xlabel('Epocas')\n",
        "plt.show()"
      ],
      "metadata": {
        "colab": {
          "base_uri": "https://localhost:8080/",
          "height": 338
        },
        "id": "sVQMgtpcpRZs",
        "outputId": "11831818-8855-401b-88ea-011519da908b"
      },
      "execution_count": 22,
      "outputs": [
        {
          "output_type": "display_data",
          "data": {
            "text/plain": [
              "<Figure size 576x360 with 1 Axes>"
            ],
            "image/png": "[encoded data removed]"
          },
          "metadata": {
            "needs_background": "light"
          }
        }
      ]
    },
    {
      "cell_type": "code",
      "source": [
        "mse_test = model.evaluate(X_test,y_test)"
      ],
      "metadata": {
        "colab": {
          "base_uri": "https://localhost:8080/"
        },
        "id": "CiYVBdPCuf1B",
        "outputId": "4d92c52d-bbff-4479-ff38-5f1be58d4027"
      },
      "execution_count": 23,
      "outputs": [
        {
          "output_type": "stream",
          "name": "stdout",
          "text": [
            "4/4 [==============================] - 0s 4ms/step - loss: 0.1429 - mean_absolute_error: 0.1330\n"
          ]
        }
      ]
    },
    {
      "cell_type": "code",
      "source": [
        "#X_new = X_test"
      ],
      "metadata": {
        "id": "_jcn8u_XumRp"
      },
      "execution_count": 24,
      "outputs": []
    },
    {
      "cell_type": "code",
      "source": [
        "y_pred = model.predict(X_test)"
      ],
      "metadata": {
        "colab": {
          "base_uri": "https://localhost:8080/"
        },
        "id": "saMAbgNluvR5",
        "outputId": "7ccca57c-2e04-49fe-993a-1621e6ec2974"
      },
      "execution_count": 25,
      "outputs": [
        {
          "output_type": "stream",
          "name": "stdout",
          "text": [
            "4/4 [==============================] - 0s 4ms/step\n"
          ]
        }
      ]
    },
    {
      "cell_type": "code",
      "source": [
        "import matplotlib.pyplot as plt\n",
        "plt.subplots(figsize=(6, 6))\n",
        "plt.scatter(y_test*y_max,y_pred*y_max)\n",
        "plt.scatter(y_test*y_max,y_test*y_max)\n",
        "plt.xlim(0,400)\n",
        "plt.ylim(0,400)\n",
        "plt.xlabel('y_test')\n",
        "plt.ylabel('y_pred')"
      ],
      "metadata": {
        "colab": {
          "base_uri": "https://localhost:8080/",
          "height": 409
        },
        "id": "7jAdsXNfu8Bt",
        "outputId": "021bfe17-a804-462a-da82-c934d7c7c0bf"
      },
      "execution_count": 26,
      "outputs": [
        {
          "output_type": "execute_result",
          "data": {
            "text/plain": [
              "Text(0, 0.5, 'y_pred')"
            ]
          },
          "metadata": {},
          "execution_count": 26
        },
        {
          "output_type": "display_data",
          "data": {
            "text/plain": [
              "<Figure size 432x432 with 1 Axes>"
            ],
            "image/png": "[encoded data removed]"
          },
          "metadata": {
            "needs_background": "light"
          }
        }
      ]
    },
    {
      "cell_type": "code",
      "source": [
        "chart_data = pd.DataFrame(\n",
        "    y_pred,\n",
        "    columns=[\"pred\"])\n",
        "chart_data2 = pd.DataFrame(\n",
        "    y_test,\n",
        "    columns=[\"pred\"])"
      ],
      "metadata": {
        "id": "REXZkFsyLmr5"
      },
      "execution_count": 27,
      "outputs": []
    },
    {
      "cell_type": "code",
      "source": [
        "import plotly.express as px\n",
        "fig = px.bar(chart_data, y='pred')\n",
        "fig.show()"
      ],
      "metadata": {
        "colab": {
          "base_uri": "https://localhost:8080/",
          "height": 542
        },
        "id": "_2CAJ3exKss7",
        "outputId": "58689daa-a0c9-4489-bc20-6022fdb9dc93"
      },
      "execution_count": 28,
      "outputs": [
        {
          "output_type": "display_data",
          "data": {
            "text/html": [
              "<html>\n",
              "<head><meta charset=\"utf-8\" /></head>\n",
              "<body>\n",
              "    <div>            <script src=\"https://cdnjs.cloudflare.com/ajax/libs/mathjax/2.7.5/MathJax.js?config=TeX-AMS-MML_SVG\"></script><script type=\"text/javascript\">if (window.MathJax) {MathJax.Hub.Config({SVG: {font: \"STIX-Web\"}});}</script>                <script type=\"text/javascript\">window.PlotlyConfig = {MathJaxConfig: 'local'};</script>\n",
              "        <script src=\"https://cdn.plot.ly/plotly-2.8.3.min.js\"></script>                <div id=\"145adcc9-e7de-433b-9d82-a57eac34dfa2\" class=\"plotly-graph-div\" style=\"height:525px; width:100%;\"></div>            <script type=\"text/javascript\">                                    window.PLOTLYENV=window.PLOTLYENV || {};                                    if (document.getElementById(\"145adcc9-e7de-433b-9d82-a57eac34dfa2\")) {                    Plotly.newPlot(                        \"145adcc9-e7de-433b-9d82-a57eac34dfa2\",                        [{\"alignmentgroup\":\"True\",\"hovertemplate\":\"index=%{x}<br>pred=%{y}<extra></extra>\",\"legendgroup\":\"\",\"marker\":{\"color\":\"#636efa\",\"pattern\":{\"shape\":\"\"}},\"name\":\"\",\"offsetgroup\":\"\",\"orientation\":\"v\",\"showlegend\":false,\"textposition\":\"auto\",\"x\":[0,1,2,3,4,5,6,7,8,9,10,11,12,13,14,15,16,17,18,19,20,21,22,23,24,25,26,27,28,29,30,31,32,33,34,35,36,37,38,39,40,41,42,43,44,45,46,47,48,49,50,51,52,53,54,55,56,57,58,59,60,61,62,63,64,65,66,67,68,69,70,71,72,73,74,75,76,77,78,79,80,81,82,83,84,85,86,87,88,89,90,91,92,93,94,95,96,97,98,99,100,101,102,103,104,105,106,107,108,109,110],\"xaxis\":\"x\",\"y\":[0.30687886476516724,0.29894280433654785,0.4820426106452942,0.7810892462730408,0.5935078263282776,0.3672167658805847,0.5915623307228088,0.35683631896972656,0.308280885219574,0.688503086566925,0.19736813008785248,0.6529145836830139,0.3453904986381531,0.47189703583717346,0.3792245388031006,0.5237362384796143,0.426601380109787,0.6167451739311218,0.5345317721366882,0.42906174063682556,0.5317496061325073,0.27091267704963684,0.5455150008201599,0.6803668737411499,0.2946093678474426,0.3910432457923889,0.6788780093193054,0.2906443476676941,0.19189083576202393,0.5295840501785278,0.5167955160140991,0.1578642576932907,0.43612563610076904,0.27005961537361145,0.5558245778083801,0.3955375552177429,0.3073655962944031,0.3231281638145447,0.22772695124149323,0.3509833514690399,0.5196760296821594,0.5417779088020325,0.16672171652317047,0.5028921961784363,0.7914231419563293,0.363604336977005,0.1960144191980362,0.8797984719276428,0.2084251493215561,0.3304605484008789,0.5977029204368591,0.6522807478904724,0.5824152231216431,0.2455444186925888,0.26511338353157043,0.47496938705444336,0.2268655151128769,0.4313558340072632,0.6326729655265808,0.8312308192253113,0.6708114743232727,0.49614477157592773,0.3596573770046234,0.3847038745880127,0.6686607003211975,0.3650873303413391,0.30174365639686584,0.3250548839569092,0.11152610182762146,0.7153195738792419,0.32302209734916687,0.44166022539138794,0.45710980892181396,0.5003737211227417,0.3086788058280945,0.38998135924339294,0.1761971265077591,0.6219592094421387,0.17258934676647186,0.732658326625824,0.2212153822183609,0.4807836711406708,0.6276171803474426,0.5020796656608582,0.3864707350730896,0.5350764393806458,0.537388026714325,0.4678308367729187,0.44359469413757324,0.5303896069526672,0.27803856134414673,0.42325592041015625,0.2583717703819275,0.39532670378685,0.5576018691062927,0.4283222556114197,0.33758658170700073,0.49421948194503784,0.583829939365387,0.5048365592956543,0.2987320125102997,0.4790377616882324,0.2927134931087494,0.4739999771118164,0.3718821406364441,0.7017056345939636,0.6181808114051819,0.35202476382255554,0.7036731839179993,0.5299296975135803,0.46979138255119324],\"yaxis\":\"y\",\"type\":\"bar\"}],                        {\"template\":{\"data\":{\"bar\":[{\"error_x\":{\"color\":\"#2a3f5f\"},\"error_y\":{\"color\":\"#2a3f5f\"},\"marker\":{\"line\":{\"color\":\"#E5ECF6\",\"width\":0.5},\"pattern\":{\"fillmode\":\"overlay\",\"size\":10,\"solidity\":0.2}},\"type\":\"bar\"}],\"barpolar\":[{\"marker\":{\"line\":{\"color\":\"#E5ECF6\",\"width\":0.5},\"pattern\":{\"fillmode\":\"overlay\",\"size\":10,\"solidity\":0.2}},\"type\":\"barpolar\"}],\"carpet\":[{\"aaxis\":{\"endlinecolor\":\"#2a3f5f\",\"gridcolor\":\"white\",\"linecolor\":\"white\",\"minorgridcolor\":\"white\",\"startlinecolor\":\"#2a3f5f\"},\"baxis\":{\"endlinecolor\":\"#2a3f5f\",\"gridcolor\":\"white\",\"linecolor\":\"white\",\"minorgridcolor\":\"white\",\"startlinecolor\":\"#2a3f5f\"},\"type\":\"carpet\"}],\"choropleth\":[{\"colorbar\":{\"outlinewidth\":0,\"ticks\":\"\"},\"type\":\"choropleth\"}],\"contour\":[{\"colorbar\":{\"outlinewidth\":0,\"ticks\":\"\"},\"colorscale\":[[0.0,\"#0d0887\"],[0.1111111111111111,\"#46039f\"],[0.2222222222222222,\"#7201a8\"],[0.3333333333333333,\"#9c179e\"],[0.4444444444444444,\"#bd3786\"],[0.5555555555555556,\"#d8576b\"],[0.6666666666666666,\"#ed7953\"],[0.7777777777777778,\"#fb9f3a\"],[0.8888888888888888,\"#fdca26\"],[1.0,\"#f0f921\"]],\"type\":\"contour\"}],\"contourcarpet\":[{\"colorbar\":{\"outlinewidth\":0,\"ticks\":\"\"},\"type\":\"contourcarpet\"}],\"heatmap\":[{\"colorbar\":{\"outlinewidth\":0,\"ticks\":\"\"},\"colorscale\":[[0.0,\"#0d0887\"],[0.1111111111111111,\"#46039f\"],[0.2222222222222222,\"#7201a8\"],[0.3333333333333333,\"#9c179e\"],[0.4444444444444444,\"#bd3786\"],[0.5555555555555556,\"#d8576b\"],[0.6666666666666666,\"#ed7953\"],[0.7777777777777778,\"#fb9f3a\"],[0.8888888888888888,\"#fdca26\"],[1.0,\"#f0f921\"]],\"type\":\"heatmap\"}],\"heatmapgl\":[{\"colorbar\":{\"outlinewidth\":0,\"ticks\":\"\"},\"colorscale\":[[0.0,\"#0d0887\"],[0.1111111111111111,\"#46039f\"],[0.2222222222222222,\"#7201a8\"],[0.3333333333333333,\"#9c179e\"],[0.4444444444444444,\"#bd3786\"],[0.5555555555555556,\"#d8576b\"],[0.6666666666666666,\"#ed7953\"],[0.7777777777777778,\"#fb9f3a\"],[0.8888888888888888,\"#fdca26\"],[1.0,\"#f0f921\"]],\"type\":\"heatmapgl\"}],\"histogram\":[{\"marker\":{\"pattern\":{\"fillmode\":\"overlay\",\"size\":10,\"solidity\":0.2}},\"type\":\"histogram\"}],\"histogram2d\":[{\"colorbar\":{\"outlinewidth\":0,\"ticks\":\"\"},\"colorscale\":[[0.0,\"#0d0887\"],[0.1111111111111111,\"#46039f\"],[0.2222222222222222,\"#7201a8\"],[0.3333333333333333,\"#9c179e\"],[0.4444444444444444,\"#bd3786\"],[0.5555555555555556,\"#d8576b\"],[0.6666666666666666,\"#ed7953\"],[0.7777777777777778,\"#fb9f3a\"],[0.8888888888888888,\"#fdca26\"],[1.0,\"#f0f921\"]],\"type\":\"histogram2d\"}],\"histogram2dcontour\":[{\"colorbar\":{\"outlinewidth\":0,\"ticks\":\"\"},\"colorscale\":[[0.0,\"#0d0887\"],[0.1111111111111111,\"#46039f\"],[0.2222222222222222,\"#7201a8\"],[0.3333333333333333,\"#9c179e\"],[0.4444444444444444,\"#bd3786\"],[0.5555555555555556,\"#d8576b\"],[0.6666666666666666,\"#ed7953\"],[0.7777777777777778,\"#fb9f3a\"],[0.8888888888888888,\"#fdca26\"],[1.0,\"#f0f921\"]],\"type\":\"histogram2dcontour\"}],\"mesh3d\":[{\"colorbar\":{\"outlinewidth\":0,\"ticks\":\"\"},\"type\":\"mesh3d\"}],\"parcoords\":[{\"line\":{\"colorbar\":{\"outlinewidth\":0,\"ticks\":\"\"}},\"type\":\"parcoords\"}],\"pie\":[{\"automargin\":true,\"type\":\"pie\"}],\"scatter\":[{\"marker\":{\"colorbar\":{\"outlinewidth\":0,\"ticks\":\"\"}},\"type\":\"scatter\"}],\"scatter3d\":[{\"line\":{\"colorbar\":{\"outlinewidth\":0,\"ticks\":\"\"}},\"marker\":{\"colorbar\":{\"outlinewidth\":0,\"ticks\":\"\"}},\"type\":\"scatter3d\"}],\"scattercarpet\":[{\"marker\":{\"colorbar\":{\"outlinewidth\":0,\"ticks\":\"\"}},\"type\":\"scattercarpet\"}],\"scattergeo\":[{\"marker\":{\"colorbar\":{\"outlinewidth\":0,\"ticks\":\"\"}},\"type\":\"scattergeo\"}],\"scattergl\":[{\"marker\":{\"colorbar\":{\"outlinewidth\":0,\"ticks\":\"\"}},\"type\":\"scattergl\"}],\"scattermapbox\":[{\"marker\":{\"colorbar\":{\"outlinewidth\":0,\"ticks\":\"\"}},\"type\":\"scattermapbox\"}],\"scatterpolar\":[{\"marker\":{\"colorbar\":{\"outlinewidth\":0,\"ticks\":\"\"}},\"type\":\"scatterpolar\"}],\"scatterpolargl\":[{\"marker\":{\"colorbar\":{\"outlinewidth\":0,\"ticks\":\"\"}},\"type\":\"scatterpolargl\"}],\"scatterternary\":[{\"marker\":{\"colorbar\":{\"outlinewidth\":0,\"ticks\":\"\"}},\"type\":\"scatterternary\"}],\"surface\":[{\"colorbar\":{\"outlinewidth\":0,\"ticks\":\"\"},\"colorscale\":[[0.0,\"#0d0887\"],[0.1111111111111111,\"#46039f\"],[0.2222222222222222,\"#7201a8\"],[0.3333333333333333,\"#9c179e\"],[0.4444444444444444,\"#bd3786\"],[0.5555555555555556,\"#d8576b\"],[0.6666666666666666,\"#ed7953\"],[0.7777777777777778,\"#fb9f3a\"],[0.8888888888888888,\"#fdca26\"],[1.0,\"#f0f921\"]],\"type\":\"surface\"}],\"table\":[{\"cells\":{\"fill\":{\"color\":\"#EBF0F8\"},\"line\":{\"color\":\"white\"}},\"header\":{\"fill\":{\"color\":\"#C8D4E3\"},\"line\":{\"color\":\"white\"}},\"type\":\"table\"}]},\"layout\":{\"annotationdefaults\":{\"arrowcolor\":\"#2a3f5f\",\"arrowhead\":0,\"arrowwidth\":1},\"autotypenumbers\":\"strict\",\"coloraxis\":{\"colorbar\":{\"outlinewidth\":0,\"ticks\":\"\"}},\"colorscale\":{\"diverging\":[[0,\"#8e0152\"],[0.1,\"#c51b7d\"],[0.2,\"#de77ae\"],[0.3,\"#f1b6da\"],[0.4,\"#fde0ef\"],[0.5,\"#f7f7f7\"],[0.6,\"#e6f5d0\"],[0.7,\"#b8e186\"],[0.8,\"#7fbc41\"],[0.9,\"#4d9221\"],[1,\"#276419\"]],\"sequential\":[[0.0,\"#0d0887\"],[0.1111111111111111,\"#46039f\"],[0.2222222222222222,\"#7201a8\"],[0.3333333333333333,\"#9c179e\"],[0.4444444444444444,\"#bd3786\"],[0.5555555555555556,\"#d8576b\"],[0.6666666666666666,\"#ed7953\"],[0.7777777777777778,\"#fb9f3a\"],[0.8888888888888888,\"#fdca26\"],[1.0,\"#f0f921\"]],\"sequentialminus\":[[0.0,\"#0d0887\"],[0.1111111111111111,\"#46039f\"],[0.2222222222222222,\"#7201a8\"],[0.3333333333333333,\"#9c179e\"],[0.4444444444444444,\"#bd3786\"],[0.5555555555555556,\"#d8576b\"],[0.6666666666666666,\"#ed7953\"],[0.7777777777777778,\"#fb9f3a\"],[0.8888888888888888,\"#fdca26\"],[1.0,\"#f0f921\"]]},\"colorway\":[\"#636efa\",\"#EF553B\",\"#00cc96\",\"#ab63fa\",\"#FFA15A\",\"#19d3f3\",\"#FF6692\",\"#B6E880\",\"#FF97FF\",\"#FECB52\"],\"font\":{\"color\":\"#2a3f5f\"},\"geo\":{\"bgcolor\":\"white\",\"lakecolor\":\"white\",\"landcolor\":\"#E5ECF6\",\"showlakes\":true,\"showland\":true,\"subunitcolor\":\"white\"},\"hoverlabel\":{\"align\":\"left\"},\"hovermode\":\"closest\",\"mapbox\":{\"style\":\"light\"},\"paper_bgcolor\":\"white\",\"plot_bgcolor\":\"#E5ECF6\",\"polar\":{\"angularaxis\":{\"gridcolor\":\"white\",\"linecolor\":\"white\",\"ticks\":\"\"},\"bgcolor\":\"#E5ECF6\",\"radialaxis\":{\"gridcolor\":\"white\",\"linecolor\":\"white\",\"ticks\":\"\"}},\"scene\":{\"xaxis\":{\"backgroundcolor\":\"#E5ECF6\",\"gridcolor\":\"white\",\"gridwidth\":2,\"linecolor\":\"white\",\"showbackground\":true,\"ticks\":\"\",\"zerolinecolor\":\"white\"},\"yaxis\":{\"backgroundcolor\":\"#E5ECF6\",\"gridcolor\":\"white\",\"gridwidth\":2,\"linecolor\":\"white\",\"showbackground\":true,\"ticks\":\"\",\"zerolinecolor\":\"white\"},\"zaxis\":{\"backgroundcolor\":\"#E5ECF6\",\"gridcolor\":\"white\",\"gridwidth\":2,\"linecolor\":\"white\",\"showbackground\":true,\"ticks\":\"\",\"zerolinecolor\":\"white\"}},\"shapedefaults\":{\"line\":{\"color\":\"#2a3f5f\"}},\"ternary\":{\"aaxis\":{\"gridcolor\":\"white\",\"linecolor\":\"white\",\"ticks\":\"\"},\"baxis\":{\"gridcolor\":\"white\",\"linecolor\":\"white\",\"ticks\":\"\"},\"bgcolor\":\"#E5ECF6\",\"caxis\":{\"gridcolor\":\"white\",\"linecolor\":\"white\",\"ticks\":\"\"}},\"title\":{\"x\":0.05},\"xaxis\":{\"automargin\":true,\"gridcolor\":\"white\",\"linecolor\":\"white\",\"ticks\":\"\",\"title\":{\"standoff\":15},\"zerolinecolor\":\"white\",\"zerolinewidth\":2},\"yaxis\":{\"automargin\":true,\"gridcolor\":\"white\",\"linecolor\":\"white\",\"ticks\":\"\",\"title\":{\"standoff\":15},\"zerolinecolor\":\"white\",\"zerolinewidth\":2}}},\"xaxis\":{\"anchor\":\"y\",\"domain\":[0.0,1.0],\"title\":{\"text\":\"index\"}},\"yaxis\":{\"anchor\":\"x\",\"domain\":[0.0,1.0],\"title\":{\"text\":\"pred\"}},\"legend\":{\"tracegroupgap\":0},\"margin\":{\"t\":60},\"barmode\":\"relative\"},                        {\"responsive\": true}                    ).then(function(){\n",
              "                            \n",
              "var gd = document.getElementById('145adcc9-e7de-433b-9d82-a57eac34dfa2');\n",
              "var x = new MutationObserver(function (mutations, observer) {{\n",
              "        var display = window.getComputedStyle(gd).display;\n",
              "        if (!display || display === 'none') {{\n",
              "            console.log([gd, 'removed!']);\n",
              "            Plotly.purge(gd);\n",
              "            observer.disconnect();\n",
              "        }}\n",
              "}});\n",
              "\n",
              "// Listen for the removal of the full notebook cells\n",
              "var notebookContainer = gd.closest('#notebook-container');\n",
              "if (notebookContainer) {{\n",
              "    x.observe(notebookContainer, {childList: true});\n",
              "}}\n",
              "\n",
              "// Listen for the clearing of the current output cell\n",
              "var outputEl = gd.closest('.output');\n",
              "if (outputEl) {{\n",
              "    x.observe(outputEl, {childList: true});\n",
              "}}\n",
              "\n",
              "                        })                };                            </script>        </div>\n",
              "</body>\n",
              "</html>"
            ]
          },
          "metadata": {}
        }
      ]
    },
    {
      "cell_type": "code",
      "source": [
        "import plotly.express as px\n",
        "data_canada = px.data.gapminder().query(\"country == 'Canada'\")\n",
        "fig = px.bar(chart_data2, y='pred')\n",
        "fig.show()"
      ],
      "metadata": {
        "colab": {
          "base_uri": "https://localhost:8080/",
          "height": 542
        },
        "id": "GUiyxOnxORit",
        "outputId": "fd779da7-5831-48a9-a6c4-d8869aa459c1"
      },
      "execution_count": 29,
      "outputs": [
        {
          "output_type": "display_data",
          "data": {
            "text/html": [
              "<html>\n",
              "<head><meta charset=\"utf-8\" /></head>\n",
              "<body>\n",
              "    <div>            <script src=\"https://cdnjs.cloudflare.com/ajax/libs/mathjax/2.7.5/MathJax.js?config=TeX-AMS-MML_SVG\"></script><script type=\"text/javascript\">if (window.MathJax) {MathJax.Hub.Config({SVG: {font: \"STIX-Web\"}});}</script>                <script type=\"text/javascript\">window.PlotlyConfig = {MathJaxConfig: 'local'};</script>\n",
              "        <script src=\"https://cdn.plot.ly/plotly-2.8.3.min.js\"></script>                <div id=\"4dc2b395-8eec-4968-b459-bde8272d48e0\" class=\"plotly-graph-div\" style=\"height:525px; width:100%;\"></div>            <script type=\"text/javascript\">                                    window.PLOTLYENV=window.PLOTLYENV || {};                                    if (document.getElementById(\"4dc2b395-8eec-4968-b459-bde8272d48e0\")) {                    Plotly.newPlot(                        \"4dc2b395-8eec-4968-b459-bde8272d48e0\",                        [{\"alignmentgroup\":\"True\",\"hovertemplate\":\"index=%{x}<br>pred=%{y}<extra></extra>\",\"legendgroup\":\"\",\"marker\":{\"color\":\"#636efa\",\"pattern\":{\"shape\":\"\"}},\"name\":\"\",\"offsetgroup\":\"\",\"orientation\":\"v\",\"showlegend\":false,\"textposition\":\"auto\",\"x\":[0,1,2,3,4,5,6,7,8,9,10,11,12,13,14,15,16,17,18,19,20,21,22,23,24,25,26,27,28,29,30,31,32,33,34,35,36,37,38,39,40,41,42,43,44,45,46,47,48,49,50,51,52,53,54,55,56,57,58,59,60,61,62,63,64,65,66,67,68,69,70,71,72,73,74,75,76,77,78,79,80,81,82,83,84,85,86,87,88,89,90,91,92,93,94,95,96,97,98,99,100,101,102,103,104,105,106,107,108,109,110],\"xaxis\":\"x\",\"y\":[0.20520231213872833,0.20809248554913296,0.6791907514450867,0.8005780346820809,0.315028901734104,0.17630057803468208,0.315028901734104,0.2254335260115607,0.1907514450867052,0.5549132947976878,0.15028901734104047,0.5,0.28034682080924855,0.6242774566473989,0.19653179190751446,0.6705202312138728,0.684971098265896,0.19653179190751446,0.7572254335260116,0.3352601156069364,0.6358381502890174,0.14739884393063585,0.3786127167630058,0.5635838150289018,0.18208092485549132,0.4161849710982659,0.7167630057803468,0.20520231213872833,0.15028901734104047,0.26011560693641617,0.49421965317919075,0.22254335260115607,0.5722543352601156,0.22254335260115607,0.48265895953757226,0.2138728323699422,0.20809248554913296,0.5809248554913294,0.3699421965317919,0.17341040462427745,0.7427745664739884,0.24566473988439305,0.16473988439306358,0.43641618497109824,0.8121387283236994,0.24277456647398843,0.23121387283236994,0.6994219653179191,0.2023121387283237,0.1531791907514451,0.8554913294797688,0.7427745664739884,0.4653179190751445,0.17052023121387283,0.18786127167630057,0.6271676300578035,0.2947976878612717,0.2630057803468208,0.7543352601156069,0.7023121387283237,0.8121387283236994,0.4161849710982659,0.2658959537572254,0.5144508670520231,0.7803468208092486,0.4913294797687861,0.20520231213872833,0.5173410404624278,0.13005780346820808,0.791907514450867,0.5260115606936416,0.5144508670520231,0.28034682080924855,0.1676300578034682,0.36127167630057805,0.1936416184971098,0.3352601156069364,0.5838150289017341,0.26011560693641617,0.8121387283236994,0.2861271676300578,0.8988439306358381,0.7485549132947977,0.8179190751445087,0.48554913294797686,0.5520231213872833,0.5953757225433526,0.7572254335260116,0.4479768786127168,0.5838150289017341,0.15895953757225434,0.5838150289017341,0.12138728323699421,0.6184971098265896,0.5,0.34104046242774566,0.26011560693641617,0.37283236994219654,0.43641618497109824,0.3208092485549133,0.1531791907514451,0.24566473988439305,0.315028901734104,0.5780346820809249,0.4393063583815029,0.7283236994219653,0.4479768786127168,0.5144508670520231,0.3699421965317919,0.7456647398843931,0.3583815028901734],\"yaxis\":\"y\",\"type\":\"bar\"}],                        {\"template\":{\"data\":{\"bar\":[{\"error_x\":{\"color\":\"#2a3f5f\"},\"error_y\":{\"color\":\"#2a3f5f\"},\"marker\":{\"line\":{\"color\":\"#E5ECF6\",\"width\":0.5},\"pattern\":{\"fillmode\":\"overlay\",\"size\":10,\"solidity\":0.2}},\"type\":\"bar\"}],\"barpolar\":[{\"marker\":{\"line\":{\"color\":\"#E5ECF6\",\"width\":0.5},\"pattern\":{\"fillmode\":\"overlay\",\"size\":10,\"solidity\":0.2}},\"type\":\"barpolar\"}],\"carpet\":[{\"aaxis\":{\"endlinecolor\":\"#2a3f5f\",\"gridcolor\":\"white\",\"linecolor\":\"white\",\"minorgridcolor\":\"white\",\"startlinecolor\":\"#2a3f5f\"},\"baxis\":{\"endlinecolor\":\"#2a3f5f\",\"gridcolor\":\"white\",\"linecolor\":\"white\",\"minorgridcolor\":\"white\",\"startlinecolor\":\"#2a3f5f\"},\"type\":\"carpet\"}],\"choropleth\":[{\"colorbar\":{\"outlinewidth\":0,\"ticks\":\"\"},\"type\":\"choropleth\"}],\"contour\":[{\"colorbar\":{\"outlinewidth\":0,\"ticks\":\"\"},\"colorscale\":[[0.0,\"#0d0887\"],[0.1111111111111111,\"#46039f\"],[0.2222222222222222,\"#7201a8\"],[0.3333333333333333,\"#9c179e\"],[0.4444444444444444,\"#bd3786\"],[0.5555555555555556,\"#d8576b\"],[0.6666666666666666,\"#ed7953\"],[0.7777777777777778,\"#fb9f3a\"],[0.8888888888888888,\"#fdca26\"],[1.0,\"#f0f921\"]],\"type\":\"contour\"}],\"contourcarpet\":[{\"colorbar\":{\"outlinewidth\":0,\"ticks\":\"\"},\"type\":\"contourcarpet\"}],\"heatmap\":[{\"colorbar\":{\"outlinewidth\":0,\"ticks\":\"\"},\"colorscale\":[[0.0,\"#0d0887\"],[0.1111111111111111,\"#46039f\"],[0.2222222222222222,\"#7201a8\"],[0.3333333333333333,\"#9c179e\"],[0.4444444444444444,\"#bd3786\"],[0.5555555555555556,\"#d8576b\"],[0.6666666666666666,\"#ed7953\"],[0.7777777777777778,\"#fb9f3a\"],[0.8888888888888888,\"#fdca26\"],[1.0,\"#f0f921\"]],\"type\":\"heatmap\"}],\"heatmapgl\":[{\"colorbar\":{\"outlinewidth\":0,\"ticks\":\"\"},\"colorscale\":[[0.0,\"#0d0887\"],[0.1111111111111111,\"#46039f\"],[0.2222222222222222,\"#7201a8\"],[0.3333333333333333,\"#9c179e\"],[0.4444444444444444,\"#bd3786\"],[0.5555555555555556,\"#d8576b\"],[0.6666666666666666,\"#ed7953\"],[0.7777777777777778,\"#fb9f3a\"],[0.8888888888888888,\"#fdca26\"],[1.0,\"#f0f921\"]],\"type\":\"heatmapgl\"}],\"histogram\":[{\"marker\":{\"pattern\":{\"fillmode\":\"overlay\",\"size\":10,\"solidity\":0.2}},\"type\":\"histogram\"}],\"histogram2d\":[{\"colorbar\":{\"outlinewidth\":0,\"ticks\":\"\"},\"colorscale\":[[0.0,\"#0d0887\"],[0.1111111111111111,\"#46039f\"],[0.2222222222222222,\"#7201a8\"],[0.3333333333333333,\"#9c179e\"],[0.4444444444444444,\"#bd3786\"],[0.5555555555555556,\"#d8576b\"],[0.6666666666666666,\"#ed7953\"],[0.7777777777777778,\"#fb9f3a\"],[0.8888888888888888,\"#fdca26\"],[1.0,\"#f0f921\"]],\"type\":\"histogram2d\"}],\"histogram2dcontour\":[{\"colorbar\":{\"outlinewidth\":0,\"ticks\":\"\"},\"colorscale\":[[0.0,\"#0d0887\"],[0.1111111111111111,\"#46039f\"],[0.2222222222222222,\"#7201a8\"],[0.3333333333333333,\"#9c179e\"],[0.4444444444444444,\"#bd3786\"],[0.5555555555555556,\"#d8576b\"],[0.6666666666666666,\"#ed7953\"],[0.7777777777777778,\"#fb9f3a\"],[0.8888888888888888,\"#fdca26\"],[1.0,\"#f0f921\"]],\"type\":\"histogram2dcontour\"}],\"mesh3d\":[{\"colorbar\":{\"outlinewidth\":0,\"ticks\":\"\"},\"type\":\"mesh3d\"}],\"parcoords\":[{\"line\":{\"colorbar\":{\"outlinewidth\":0,\"ticks\":\"\"}},\"type\":\"parcoords\"}],\"pie\":[{\"automargin\":true,\"type\":\"pie\"}],\"scatter\":[{\"marker\":{\"colorbar\":{\"outlinewidth\":0,\"ticks\":\"\"}},\"type\":\"scatter\"}],\"scatter3d\":[{\"line\":{\"colorbar\":{\"outlinewidth\":0,\"ticks\":\"\"}},\"marker\":{\"colorbar\":{\"outlinewidth\":0,\"ticks\":\"\"}},\"type\":\"scatter3d\"}],\"scattercarpet\":[{\"marker\":{\"colorbar\":{\"outlinewidth\":0,\"ticks\":\"\"}},\"type\":\"scattercarpet\"}],\"scattergeo\":[{\"marker\":{\"colorbar\":{\"outlinewidth\":0,\"ticks\":\"\"}},\"type\":\"scattergeo\"}],\"scattergl\":[{\"marker\":{\"colorbar\":{\"outlinewidth\":0,\"ticks\":\"\"}},\"type\":\"scattergl\"}],\"scattermapbox\":[{\"marker\":{\"colorbar\":{\"outlinewidth\":0,\"ticks\":\"\"}},\"type\":\"scattermapbox\"}],\"scatterpolar\":[{\"marker\":{\"colorbar\":{\"outlinewidth\":0,\"ticks\":\"\"}},\"type\":\"scatterpolar\"}],\"scatterpolargl\":[{\"marker\":{\"colorbar\":{\"outlinewidth\":0,\"ticks\":\"\"}},\"type\":\"scatterpolargl\"}],\"scatterternary\":[{\"marker\":{\"colorbar\":{\"outlinewidth\":0,\"ticks\":\"\"}},\"type\":\"scatterternary\"}],\"surface\":[{\"colorbar\":{\"outlinewidth\":0,\"ticks\":\"\"},\"colorscale\":[[0.0,\"#0d0887\"],[0.1111111111111111,\"#46039f\"],[0.2222222222222222,\"#7201a8\"],[0.3333333333333333,\"#9c179e\"],[0.4444444444444444,\"#bd3786\"],[0.5555555555555556,\"#d8576b\"],[0.6666666666666666,\"#ed7953\"],[0.7777777777777778,\"#fb9f3a\"],[0.8888888888888888,\"#fdca26\"],[1.0,\"#f0f921\"]],\"type\":\"surface\"}],\"table\":[{\"cells\":{\"fill\":{\"color\":\"#EBF0F8\"},\"line\":{\"color\":\"white\"}},\"header\":{\"fill\":{\"color\":\"#C8D4E3\"},\"line\":{\"color\":\"white\"}},\"type\":\"table\"}]},\"layout\":{\"annotationdefaults\":{\"arrowcolor\":\"#2a3f5f\",\"arrowhead\":0,\"arrowwidth\":1},\"autotypenumbers\":\"strict\",\"coloraxis\":{\"colorbar\":{\"outlinewidth\":0,\"ticks\":\"\"}},\"colorscale\":{\"diverging\":[[0,\"#8e0152\"],[0.1,\"#c51b7d\"],[0.2,\"#de77ae\"],[0.3,\"#f1b6da\"],[0.4,\"#fde0ef\"],[0.5,\"#f7f7f7\"],[0.6,\"#e6f5d0\"],[0.7,\"#b8e186\"],[0.8,\"#7fbc41\"],[0.9,\"#4d9221\"],[1,\"#276419\"]],\"sequential\":[[0.0,\"#0d0887\"],[0.1111111111111111,\"#46039f\"],[0.2222222222222222,\"#7201a8\"],[0.3333333333333333,\"#9c179e\"],[0.4444444444444444,\"#bd3786\"],[0.5555555555555556,\"#d8576b\"],[0.6666666666666666,\"#ed7953\"],[0.7777777777777778,\"#fb9f3a\"],[0.8888888888888888,\"#fdca26\"],[1.0,\"#f0f921\"]],\"sequentialminus\":[[0.0,\"#0d0887\"],[0.1111111111111111,\"#46039f\"],[0.2222222222222222,\"#7201a8\"],[0.3333333333333333,\"#9c179e\"],[0.4444444444444444,\"#bd3786\"],[0.5555555555555556,\"#d8576b\"],[0.6666666666666666,\"#ed7953\"],[0.7777777777777778,\"#fb9f3a\"],[0.8888888888888888,\"#fdca26\"],[1.0,\"#f0f921\"]]},\"colorway\":[\"#636efa\",\"#EF553B\",\"#00cc96\",\"#ab63fa\",\"#FFA15A\",\"#19d3f3\",\"#FF6692\",\"#B6E880\",\"#FF97FF\",\"#FECB52\"],\"font\":{\"color\":\"#2a3f5f\"},\"geo\":{\"bgcolor\":\"white\",\"lakecolor\":\"white\",\"landcolor\":\"#E5ECF6\",\"showlakes\":true,\"showland\":true,\"subunitcolor\":\"white\"},\"hoverlabel\":{\"align\":\"left\"},\"hovermode\":\"closest\",\"mapbox\":{\"style\":\"light\"},\"paper_bgcolor\":\"white\",\"plot_bgcolor\":\"#E5ECF6\",\"polar\":{\"angularaxis\":{\"gridcolor\":\"white\",\"linecolor\":\"white\",\"ticks\":\"\"},\"bgcolor\":\"#E5ECF6\",\"radialaxis\":{\"gridcolor\":\"white\",\"linecolor\":\"white\",\"ticks\":\"\"}},\"scene\":{\"xaxis\":{\"backgroundcolor\":\"#E5ECF6\",\"gridcolor\":\"white\",\"gridwidth\":2,\"linecolor\":\"white\",\"showbackground\":true,\"ticks\":\"\",\"zerolinecolor\":\"white\"},\"yaxis\":{\"backgroundcolor\":\"#E5ECF6\",\"gridcolor\":\"white\",\"gridwidth\":2,\"linecolor\":\"white\",\"showbackground\":true,\"ticks\":\"\",\"zerolinecolor\":\"white\"},\"zaxis\":{\"backgroundcolor\":\"#E5ECF6\",\"gridcolor\":\"white\",\"gridwidth\":2,\"linecolor\":\"white\",\"showbackground\":true,\"ticks\":\"\",\"zerolinecolor\":\"white\"}},\"shapedefaults\":{\"line\":{\"color\":\"#2a3f5f\"}},\"ternary\":{\"aaxis\":{\"gridcolor\":\"white\",\"linecolor\":\"white\",\"ticks\":\"\"},\"baxis\":{\"gridcolor\":\"white\",\"linecolor\":\"white\",\"ticks\":\"\"},\"bgcolor\":\"#E5ECF6\",\"caxis\":{\"gridcolor\":\"white\",\"linecolor\":\"white\",\"ticks\":\"\"}},\"title\":{\"x\":0.05},\"xaxis\":{\"automargin\":true,\"gridcolor\":\"white\",\"linecolor\":\"white\",\"ticks\":\"\",\"title\":{\"standoff\":15},\"zerolinecolor\":\"white\",\"zerolinewidth\":2},\"yaxis\":{\"automargin\":true,\"gridcolor\":\"white\",\"linecolor\":\"white\",\"ticks\":\"\",\"title\":{\"standoff\":15},\"zerolinecolor\":\"white\",\"zerolinewidth\":2}}},\"xaxis\":{\"anchor\":\"y\",\"domain\":[0.0,1.0],\"title\":{\"text\":\"index\"}},\"yaxis\":{\"anchor\":\"x\",\"domain\":[0.0,1.0],\"title\":{\"text\":\"pred\"}},\"legend\":{\"tracegroupgap\":0},\"margin\":{\"t\":60},\"barmode\":\"relative\"},                        {\"responsive\": true}                    ).then(function(){\n",
              "                            \n",
              "var gd = document.getElementById('4dc2b395-8eec-4968-b459-bde8272d48e0');\n",
              "var x = new MutationObserver(function (mutations, observer) {{\n",
              "        var display = window.getComputedStyle(gd).display;\n",
              "        if (!display || display === 'none') {{\n",
              "            console.log([gd, 'removed!']);\n",
              "            Plotly.purge(gd);\n",
              "            observer.disconnect();\n",
              "        }}\n",
              "}});\n",
              "\n",
              "// Listen for the removal of the full notebook cells\n",
              "var notebookContainer = gd.closest('#notebook-container');\n",
              "if (notebookContainer) {{\n",
              "    x.observe(notebookContainer, {childList: true});\n",
              "}}\n",
              "\n",
              "// Listen for the clearing of the current output cell\n",
              "var outputEl = gd.closest('.output');\n",
              "if (outputEl) {{\n",
              "    x.observe(outputEl, {childList: true});\n",
              "}}\n",
              "\n",
              "                        })                };                            </script>        </div>\n",
              "</body>\n",
              "</html>"
            ]
          },
          "metadata": {}
        }
      ]
    },
    {
      "cell_type": "code",
      "source": [],
      "metadata": {
        "id": "-rczFNrQO0YV"
      },
      "execution_count": 29,
      "outputs": []
    }
  ]
}