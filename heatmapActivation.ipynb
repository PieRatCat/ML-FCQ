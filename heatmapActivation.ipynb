{
  "nbformat": 4,
  "nbformat_minor": 0,
  "metadata": {
    "colab": {
      "provenance": [],
      "collapsed_sections": [],
      "authorship_tag": "ABX9TyP1X7SjdsntcsoP2vlNywgq",
      "include_colab_link": true
    },
    "kernelspec": {
      "name": "python3",
      "display_name": "Python 3"
    },
    "language_info": {
      "name": "python"
    }
  },
  "cells": [
    {
      "cell_type": "markdown",
      "metadata": {
        "id": "view-in-github",
        "colab_type": "text"
      },
      "source": [
        "<a href=\"https://colab.research.google.com/github/napoles-uach/ML-FCQ/blob/main/heatmapActivation.ipynb\" target=\"_parent\"><img src=\"https://colab.research.google.com/assets/colab-badge.svg\" alt=\"Open In Colab\"/></a>"
      ]
    },
    {
      "cell_type": "code",
      "source": [
        "def sigmoid(z):\n",
        "    return 1/(1+np.exp(-z))\n",
        "def ReLU(z):\n",
        "    return np.maximum(0,z)\n",
        "def tanh(z):\n",
        "    return np.tanh(z)"
      ],
      "metadata": {
        "id": "vhHC3nQw_PJy"
      },
      "execution_count": 99,
      "outputs": []
    },
    {
      "cell_type": "code",
      "execution_count": 132,
      "metadata": {
        "colab": {
          "base_uri": "https://localhost:8080/",
          "height": 425
        },
        "id": "n2OpD7VL572c",
        "outputId": "9c547432-38db-4968-ae3f-8c6d875b163a"
      },
      "outputs": [
        {
          "output_type": "display_data",
          "data": {
            "text/plain": [
              "<Figure size 504x504 with 2 Axes>"
            ],
            "image/png": "[encoded data removed]"
          },
          "metadata": {
            "needs_background": "light"
          }
        }
      ],
      "source": [
        "import numpy as np\n",
        "import matplotlib.pyplot as plt\n",
        "import pandas as pd  \n",
        "np.random.seed(50)\n",
        "data = np.random.randn(6,)\n",
        "data = np.random.uniform(low=-1, high=1, size=(7,))\n",
        "\n",
        "data1 = tanh(data)\n",
        "data2 = ReLU(data)\n",
        "data3 = sigmoid(data)\n",
        "\n",
        "\n",
        "df = pd.DataFrame( {'raw': data, 'tanh': data1,'ReLU':data2,'sigmoid':data3})\n",
        "\n",
        "#print(data)\n",
        "plt.figure(figsize=(7,7))\n",
        "plt.imshow(df,cmap =\"RdYlBu\")\n",
        "\n",
        "data= [f'{item:.3f}' for item in data]\n",
        "  \n",
        "#plt.title( \"Heat Map\" )\n",
        "plt.colorbar(pad=-0.25,)\n",
        "plt.xticks(range(len(df)), df.columns)\n",
        "plt.yticks(range(len(data)), data)\n",
        "plt.box(False)\n",
        "plt.tick_params(axis=u'both', which=u'both',length=0)\n",
        "\n",
        "plt.show()\n"
      ]
    },
    {
      "cell_type": "code",
      "source": [],
      "metadata": {
        "id": "qC8cnRYt58vg"
      },
      "execution_count": null,
      "outputs": []
    }
  ]
}