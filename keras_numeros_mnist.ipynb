{
  "cells": [
    {
      "cell_type": "markdown",
      "metadata": {
        "id": "view-in-github",
        "colab_type": "text"
      },
      "source": [
        "<a href=\"https://colab.research.google.com/github/napoles-uach/ML-FCQ/blob/main/keras_numeros_mnist.ipynb\" target=\"_parent\"><img src=\"https://colab.research.google.com/assets/colab-badge.svg\" alt=\"Open In Colab\"/></a>"
      ]
    },
    {
      "cell_type": "code",
      "execution_count": null,
      "metadata": {
        "id": "O9yGDcw_HcG-"
      },
      "outputs": [],
      "source": [
        "!pip install streamlit -q"
      ]
    },
    {
      "cell_type": "code",
      "source": [
        "pip install streamlit_drawable_canvas"
      ],
      "metadata": {
        "id": "MkgfCEUxI2QG"
      },
      "execution_count": null,
      "outputs": []
    },
    {
      "cell_type": "code",
      "execution_count": null,
      "metadata": {
        "id": "ivDZMuDHHjZk"
      },
      "outputs": [],
      "source": [
        "%%writefile app.py\n",
        "import streamlit as st\n",
        "import tensorflow\n",
        "from tensorflow import keras\n",
        "from tensorflow.keras import layers\n",
        "import matplotlib.pyplot as plt\n",
        "import pandas as pd\n",
        "import numpy as np\n",
        "\n",
        "\n",
        "\n",
        "from tensorflow.keras.datasets import mnist\n",
        "\n",
        "from streamlit_drawable_canvas import st_canvas\n",
        "\n",
        "st.title('Keras example')\n",
        "\n",
        "\n",
        "\n",
        "\n",
        "\n",
        "def convim(im):\n",
        "  lista1=[]\n",
        "  for i in range(28):\n",
        "    lista2=[]\n",
        "    for j in range(28):\n",
        "      bit=np.sum(im[i][j][:])\n",
        "      lista2.append(bit)\n",
        "    lista1.append(lista2)\n",
        "  return lista1\n",
        "\n",
        "\n",
        "(train_images, train_labels), (test_images, test_labels) = mnist.load_data()\n",
        "\n",
        "images_test = test_images\n",
        "images_test[0].shape\n",
        "\n",
        "model = keras.Sequential([\n",
        " layers.Dense(512, activation=\"relu\"),\n",
        " layers.Dense(10, activation=\"softmax\")\n",
        "])\n",
        "code = '''model = keras.Sequential([\n",
        " layers.Dense(512, activation=\"relu\"),\n",
        " layers.Dense(10, activation=\"softmax\")\n",
        "])'''\n",
        "st.code(code, language='python')\n",
        "\n",
        "model.compile(optimizer=\"rmsprop\",\n",
        " loss=\"sparse_categorical_crossentropy\",\n",
        " metrics=[\"accuracy\"])\n",
        "code_comp = '''model.compile(optimizer=\"rmsprop\",\n",
        " loss=\"sparse_categorical_crossentropy\",\n",
        " metrics=[\"accuracy\"])\n",
        "'''\n",
        "st.code(code_comp,language='python')\n",
        "\n",
        "train_images = train_images.reshape((60000, 28 * 28))\n",
        "train_images = train_images.astype(\"float32\") / 255\n",
        "test_images = test_images.reshape((10000, 28 * 28))\n",
        "test_images = test_images.astype(\"float32\") / 255\n",
        "\n",
        "#model.fit(train_images, train_labels, epochs=5, batch_size=128)\n",
        "#@st.experimental_singleton\n",
        "def model_fit(model):\n",
        "  history = model.fit(train_images, train_labels, epochs=5, batch_size=128)\n",
        "  return history\n",
        "code_fit = 'model.fit(train_images, train_labels, epochs=5, batch_size=128)'\n",
        "st.code(code_fit,language='python')\n",
        "\n",
        "train = st.checkbox('train')\n",
        "if train:\n",
        "  history = model_fit(model)\n",
        "  df = pd.DataFrame(history.history)\n",
        "  st.line_chart(df)\n",
        "\n",
        "\n",
        "\n",
        "\n",
        "test_digits = test_images[0:10]\n",
        "predictions = model.predict(test_digits)\n",
        "n=st.sidebar.selectbox(\"Indice\",[0,1,2,3,4,5,6,7,8,9])\n",
        "fig, ax = plt.subplots()\n",
        "im = ax.imshow(images_test[n], cmap=\"binary\")\n",
        "st.sidebar.pyplot(fig)\n",
        "\n",
        "st.header(\"Prediccion: \"+str(predictions[n].argmax()))\n",
        "st.sidebar.write(\"Valor verdadero \"+str(test_labels[n]))\n",
        "\n",
        "test_loss, test_acc = model.evaluate(test_images, test_labels)\n",
        "st.write(f\"test_acc: {test_acc}\")\n",
        "\n",
        "canvas_result = st_canvas(stroke_width= 2,height=28,width=28)\n",
        "ima =convim(canvas_result.image_data)\n",
        "ima=np.array(ima)\n",
        "ima = ima.reshape( 28 * 28)\n",
        "ima = ima.astype(\"float32\") / 255\n",
        "ima=[ima]\n",
        "ima=np.array(ima)\n",
        "pred_ima=model.predict(ima)\n",
        "st.write(pred_ima.argmax())"
      ]
    },
    {
      "cell_type": "code",
      "execution_count": null,
      "metadata": {
        "id": "QwbXV8FfH-z1"
      },
      "outputs": [],
      "source": [
        "!streamlit run app.py & npx localtunnel --port 8501"
      ]
    }
  ],
  "metadata": {
    "colab": {
      "provenance": [],
      "collapsed_sections": [],
      "authorship_tag": "ABX9TyOc82hu+L6qNjZYb2AeixkQ",
      "include_colab_link": true
    },
    "kernelspec": {
      "display_name": "Python 3",
      "name": "python3"
    },
    "language_info": {
      "name": "python"
    }
  },
  "nbformat": 4,
  "nbformat_minor": 0
}