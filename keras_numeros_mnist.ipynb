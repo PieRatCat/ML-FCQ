{
  "cells": [
    {
      "cell_type": "markdown",
      "metadata": {
        "id": "view-in-github",
        "colab_type": "text"
      },
      "source": [
        "<a href=\"https://colab.research.google.com/github/napoles-uach/ML-FCQ/blob/main/keras_numeros_mnist.ipynb\" target=\"_parent\"><img src=\"https://colab.research.google.com/assets/colab-badge.svg\" alt=\"Open In Colab\"/></a>"
      ]
    },
    {
      "cell_type": "code",
      "execution_count": null,
      "metadata": {
        "id": "O9yGDcw_HcG-"
      },
      "outputs": [],
      "source": [
        "!pip install streamlit -q"
      ]
    },
    {
      "cell_type": "code",
      "source": [
        "pip install streamlit_drawable_canvas"
      ],
      "metadata": {
        "id": "MkgfCEUxI2QG"
      },
      "execution_count": null,
      "outputs": []
    },
    {
      "cell_type": "code",
      "source": [
        "pip install streamlit-lottie"
      ],
      "metadata": {
        "id": "SyCAj9_6m3O5"
      },
      "execution_count": null,
      "outputs": []
    },
    {
      "cell_type": "code",
      "execution_count": 11,
      "metadata": {
        "id": "ivDZMuDHHjZk",
        "colab": {
          "base_uri": "https://localhost:8080/"
        },
        "outputId": "9e491bc4-1137-4552-ada3-a2fd305929e4"
      },
      "outputs": [
        {
          "output_type": "stream",
          "name": "stdout",
          "text": [
            "Overwriting app.py\n"
          ]
        }
      ],
      "source": [
        "%%writefile app.py\n",
        "import streamlit as st\n",
        "import tensorflow\n",
        "from tensorflow import keras\n",
        "from tensorflow.keras import layers\n",
        "import matplotlib.pyplot as plt\n",
        "import pandas as pd\n",
        "import numpy as np\n",
        "from streamlit_lottie import st_lottie\n",
        "import requests\n",
        "\n",
        "\n",
        "\n",
        "from tensorflow.keras.datasets import mnist\n",
        "\n",
        "from streamlit_drawable_canvas import st_canvas\n",
        "\n",
        "st.title('Ejemplo Keras/MNIST')\n",
        "col1,col2=st.columns([4,4])\n",
        "with col1:\n",
        "  st.image('https://miro.medium.com/max/1188/1*Ft2rLuO82eItlvJn5HOi9A.png')\n",
        "\n",
        "with col2:\n",
        "  st.image('https://miro.medium.com/max/1160/1*T-AyPeCdLDzHI0R952EmYg.gif')\n",
        "\n",
        "def convim(im):\n",
        "  lista1=[]\n",
        "  for i in range(28):\n",
        "    lista2=[]\n",
        "    for j in range(28):\n",
        "      bit=np.sum(im[i][j][:])\n",
        "      lista2.append(bit)\n",
        "    lista1.append(lista2)\n",
        "  return lista1\n",
        "\n",
        "\n",
        "(train_images, train_labels), (test_images, test_labels) = mnist.load_data()\n",
        "\n",
        "images_test = test_images\n",
        "\n",
        "st.subheader('Definición de la arquitectura de la red neuronal :brain:')\n",
        "\n",
        "code = '''model = keras.Sequential([\n",
        " layers.Dense(512, activation=\"relu\"),\n",
        " layers.Dense(10, activation=\"softmax\")\n",
        "])'''\n",
        "\n",
        "st.code(code, language='python')\n",
        "n_neuronas=st.number_input('Opcional, da un valor para el numero de neuronas, default 512',min_value=10, max_value=1000, value=512)\n",
        "\n",
        "model = keras.Sequential([\n",
        " layers.Dense(n_neuronas, activation=\"relu\"),\n",
        " layers.Dense(10, activation=\"softmax\")\n",
        "])\n",
        "\n",
        "\n",
        "\n",
        "st.subheader('Optimización usando backpropagation 🔙')\n",
        "model.compile(optimizer=\"rmsprop\",\n",
        " loss=\"sparse_categorical_crossentropy\",\n",
        " metrics=[\"accuracy\"])\n",
        "code_comp = '''model.compile(optimizer=\"rmsprop\",\n",
        " loss=\"sparse_categorical_crossentropy\",\n",
        " metrics=[\"accuracy\"])\n",
        "'''\n",
        "st.code(code_comp,language='python')\n",
        "\n",
        "train_images = train_images.reshape((60000, 28 * 28))\n",
        "train_images = train_images.astype(\"float32\") / 255\n",
        "test_images = test_images.reshape((10000, 28 * 28))\n",
        "test_images = test_images.astype(\"float32\") / 255\n",
        "#test_images[0].shape\n",
        "#model.fit(train_images, train_labels, epochs=5, batch_size=128)\n",
        "#@st.experimental_singleton\n",
        "st.subheader('Fit: ajuste a los datos de entrenamiento 📈')\n",
        "code_fit = 'model.fit(train_images, train_labels, epochs=5, batch_size=128)'\n",
        "st.code(code_fit,language='python')\n",
        "batch=st.select_slider('Opcional, da el valor del batch_size, default 128',[2**4,2**5,2**6,2**7,2**8],2**7)\n",
        "def model_fit(model):\n",
        "  history = model.fit(train_images, train_labels, epochs=5, batch_size=batch)\n",
        "  return history\n",
        "\n",
        "\n",
        "train = st.checkbox('train')\n",
        "\n",
        "#test_loss, test_acc = model.evaluate(test_images, test_labels)\n",
        "#st.write(f\"precision (accuracy) sobre el conjunto test: {test_acc}\")\n",
        "\n",
        "if train:\n",
        "  with st.expander('plot'):\n",
        "    history = model_fit(model)\n",
        "    df = pd.DataFrame(history.history)\n",
        "    st.line_chart(df)\n",
        "\n",
        "\n",
        "st.markdown('''\n",
        "#### Ahora que la red neuronal ha sido entrenada podemos ponerla a prueba entregandole algunas imagenes de numeros para ver que haga la prediccion correcta\n",
        "''')\n",
        "\n",
        "test_digits = test_images[0:10]\n",
        "predictions = model.predict(test_digits)\n",
        "n=st.selectbox(\"Elige un indice para un numero de muestra\",[0,1,2,3,4,5,6,7,8,9])\n",
        "fig, ax = plt.subplots()\n",
        "im = ax.imshow(images_test[n], cmap=\"binary\")\n",
        "col1b,col2b = st.columns([4,4])\n",
        "with col1b:\n",
        "  st.pyplot(fig)\n",
        "with col2b:\n",
        "  with st.expander('Matrix'):\n",
        "    st.write(images_test[n])\n",
        "\n",
        "st.header(\"Prediccion 🥁 \")\n",
        "\n",
        "#st.header(\"Valor verdadero \"+str(test_labels[n]))\n",
        "\n",
        "def load_lottieurl(url: str):\n",
        "    r = requests.get(url)\n",
        "    if r.status_code != 200:\n",
        "        return None\n",
        "    return r.json()\n",
        "\n",
        "links={\n",
        "  \"bot\":\"https://assets8.lottiefiles.com/packages/lf20_g1pduE.json\",\n",
        "  \"face\" : \"https://assets8.lottiefiles.com/packages/lf20_Sb1gLg.json\",\n",
        "  \"process\" : \"https://assets8.lottiefiles.com/private_files/lf30_eTrSeS.json\",\n",
        "  \"DS\" : \"https://assets7.lottiefiles.com/private_files/lf30_8z6ubjgk.json\",\n",
        "  \"net\":\"https://assets1.lottiefiles.com/private_files/lf30_8npirptd.json\",\n",
        "  \"bot-DS\":\"https://assets6.lottiefiles.com/temp/lf20_TOE9MF.json\",\n",
        "  \"dash\":\"https://assets8.lottiefiles.com/packages/lf20_vpjqwyzx.json\",\n",
        "  \"chem\":\"https://assets2.lottiefiles.com/private_files/lf30_k9hzIV.json\"\n",
        "\n",
        "}\n",
        "col1c,col2c = st.columns([2,4])\n",
        "with col1c:\n",
        "  st_lottie(load_lottieurl(links['bot']),key=\"1\")\n",
        "with col2c:\n",
        "  st.header('Yo digo que es un ')\n",
        "  st.markdown('# '+str(predictions[n].argmax())+' ✨')\n",
        "with st.sidebar.expander('No me veas'):\n",
        "  canvas_result = st_canvas(stroke_width= 2,height=28,width=28)\n",
        "  if canvas_result.image_data is not None:\n",
        "    ima =convim(canvas_result.image_data)\n",
        "    ima=np.array(ima)\n",
        "    ima = ima.reshape( 28 * 28)\n",
        "    ima = ima.astype(\"float32\") / 255\n",
        "    ima=[ima]\n",
        "    ima=np.array(ima)\n",
        "    pred_ima=model.predict(ima)\n",
        "    #if pred_ima.argmax()==1:\n",
        "    st.subheader('🤖 yo digo que es un '+str(pred_ima.argmax())+' ✨')"
      ]
    },
    {
      "cell_type": "code",
      "execution_count": null,
      "metadata": {
        "id": "QwbXV8FfH-z1"
      },
      "outputs": [],
      "source": [
        "!streamlit run app.py & npx localtunnel --port 8501"
      ]
    }
  ],
  "metadata": {
    "colab": {
      "provenance": [],
      "collapsed_sections": [],
      "authorship_tag": "ABX9TyO5jiIUOyo2v7J1IfoK4Jv9",
      "include_colab_link": true
    },
    "kernelspec": {
      "display_name": "Python 3",
      "name": "python3"
    },
    "language_info": {
      "name": "python"
    }
  },
  "nbformat": 4,
  "nbformat_minor": 0
}