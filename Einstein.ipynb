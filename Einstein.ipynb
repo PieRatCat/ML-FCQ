{
  "nbformat": 4,
  "nbformat_minor": 0,
  "metadata": {
    "colab": {
      "provenance": [],
      "authorship_tag": "ABX9TyOf60s1J2gAur8IT54YZ6AU",
      "include_colab_link": true
    },
    "kernelspec": {
      "name": "python3",
      "display_name": "Python 3"
    },
    "language_info": {
      "name": "python"
    }
  },
  "cells": [
    {
      "cell_type": "markdown",
      "metadata": {
        "id": "view-in-github",
        "colab_type": "text"
      },
      "source": [
        "<a href=\"https://colab.research.google.com/github/napoles-uach/ML-FCQ/blob/main/Einstein.ipynb\" target=\"_parent\"><img src=\"https://colab.research.google.com/assets/colab-badge.svg\" alt=\"Open In Colab\"/></a>"
      ]
    },
    {
      "cell_type": "code",
      "execution_count": null,
      "metadata": {
        "id": "6C5vQNvkSmUR"
      },
      "outputs": [],
      "source": [
        "import numpy as np\n",
        "import tensorflow as tf\n",
        "import matplotlib.pyplot as plt\n",
        "from PIL import Image\n",
        "\n",
        "# Cargar y preprocesar la imagen\n",
        "image_path = 'imagen.jpg'\n",
        "original_image = Image.open(image_path).convert('L')\n",
        "processed_image = original_image.resize((2*28, 2*28))\n",
        "image = np.array(processed_image) / 255.0\n",
        "\n",
        "# Función de pérdida: Error cuadrático medio entre imagen generada y objetivo\n",
        "def loss(generated, target):\n",
        "    return tf.reduce_mean((generated - target)**2)\n",
        "\n",
        "# Inicialización de la imagen generada con valores aleatorios\n",
        "generated_image = tf.Variable(np.random.rand(*image.shape), dtype=tf.float32)\n",
        "\n",
        "# Optimizador\n",
        "optimizer = tf.keras.optimizers.Adam(learning_rate=0.0051)\n",
        "\n",
        "# Proceso de optimización y visualización\n",
        "epochs = 500\n",
        "plt.figure(figsize=(15, 5 * (epochs // 50 + 1)))\n",
        "plt.subplot(epochs // 50 + 1, 2, 1)\n",
        "plt.imshow(processed_image, cmap='gray')\n",
        "plt.title(\"Imagen Procesada (Redimensionada)\")\n",
        "\n",
        "for epoch in range(epochs):\n",
        "    with tf.GradientTape() as tape:\n",
        "        current_loss = loss(generated_image, image)\n",
        "    gradients = tape.gradient(current_loss, generated_image)\n",
        "    optimizer.apply_gradients([(gradients, generated_image)])\n",
        "\n",
        "    if epoch % 50 == 0:\n",
        "        print(f\"Epoch {epoch}, Loss: {current_loss.numpy()}\")\n",
        "        plt.subplot(epochs // 50 + 1, 2, epoch // 50 + 2)\n",
        "        plt.imshow(generated_image.numpy(), cmap='gray')\n",
        "        plt.title(f\"Epoch {epoch}\")\n",
        "\n",
        "plt.tight_layout()\n",
        "plt.show()"
      ]
    }
  ]
}