{
  "nbformat": 4,
  "nbformat_minor": 0,
  "metadata": {
    "colab": {
      "provenance": [],
      "gpuType": "T4",
      "include_colab_link": true
    },
    "kernelspec": {
      "name": "python3",
      "display_name": "Python 3"
    },
    "accelerator": "GPU",
    "gpuClass": "standard"
  },
  "cells": [
    {
      "cell_type": "markdown",
      "metadata": {
        "id": "view-in-github",
        "colab_type": "text"
      },
      "source": [
        "<a href=\"https://colab.research.google.com/github/napoles-uach/ML-FCQ/blob/main/GCN_grapheneEnergy_v0.ipynb\" target=\"_parent\"><img src=\"https://colab.research.google.com/assets/colab-badge.svg\" alt=\"Open In Colab\"/></a>"
      ]
    },
    {
      "cell_type": "code",
      "metadata": {
        "id": "XreprKPRSCJ2",
        "colab": {
          "base_uri": "https://localhost:8080/"
        },
        "outputId": "16bcd77f-55cc-456e-ad13-51f58d8a97c4"
      },
      "source": [
        "pip install dgl"
      ],
      "execution_count": 1,
      "outputs": [
        {
          "output_type": "stream",
          "name": "stdout",
          "text": [
            "Looking in indexes: https://pypi.org/simple, https://us-python.pkg.dev/colab-wheels/public/simple/\n",
            "Collecting dgl\n",
            "  Downloading dgl-1.0.1-cp39-cp39-manylinux1_x86_64.whl (5.4 MB)\n",
            "\u001b[2K     \u001b[90m━━━━━━━━━━━━━━━━━━━━━━━━━━━━━━━━━━━━━━━━\u001b[0m \u001b[32m5.4/5.4 MB\u001b[0m \u001b[31m40.3 MB/s\u001b[0m eta \u001b[36m0:00:00\u001b[0m\n",
            "\u001b[?25hRequirement already satisfied: tqdm in /usr/local/lib/python3.9/dist-packages (from dgl) (4.65.0)\n",
            "Requirement already satisfied: requests>=2.19.0 in /usr/local/lib/python3.9/dist-packages (from dgl) (2.27.1)\n",
            "Requirement already satisfied: psutil>=5.8.0 in /usr/local/lib/python3.9/dist-packages (from dgl) (5.9.4)\n",
            "Requirement already satisfied: networkx>=2.1 in /usr/local/lib/python3.9/dist-packages (from dgl) (3.0)\n",
            "Requirement already satisfied: scipy>=1.1.0 in /usr/local/lib/python3.9/dist-packages (from dgl) (1.10.1)\n",
            "Requirement already satisfied: numpy>=1.14.0 in /usr/local/lib/python3.9/dist-packages (from dgl) (1.22.4)\n",
            "Requirement already satisfied: certifi>=2017.4.17 in /usr/local/lib/python3.9/dist-packages (from requests>=2.19.0->dgl) (2022.12.7)\n",
            "Requirement already satisfied: charset-normalizer~=2.0.0 in /usr/local/lib/python3.9/dist-packages (from requests>=2.19.0->dgl) (2.0.12)\n",
            "Requirement already satisfied: urllib3<1.27,>=1.21.1 in /usr/local/lib/python3.9/dist-packages (from requests>=2.19.0->dgl) (1.26.15)\n",
            "Requirement already satisfied: idna<4,>=2.5 in /usr/local/lib/python3.9/dist-packages (from requests>=2.19.0->dgl) (3.4)\n",
            "Installing collected packages: dgl\n",
            "Successfully installed dgl-1.0.1\n"
          ]
        }
      ]
    },
    {
      "cell_type": "code",
      "metadata": {
        "id": "O-2JqZ6YSGul",
        "colab": {
          "base_uri": "https://localhost:8080/"
        },
        "outputId": "f15f148f-98f8-437b-b362-2b530b08f3e8"
      },
      "source": [
        "#Instalar la libreria QLM\n",
        "!pip3 install -q qml --user -U"
      ],
      "execution_count": 2,
      "outputs": [
        {
          "output_type": "stream",
          "name": "stdout",
          "text": [
            "\u001b[?25l     \u001b[90m━━━━━━━━━━━━━━━━━━━━━━━━━━━━━━━━━━━━━━━━\u001b[0m \u001b[32m0.0/41.5 kB\u001b[0m \u001b[31m?\u001b[0m eta \u001b[36m-:--:--\u001b[0m\r\u001b[2K     \u001b[90m━━━━━━━━━━━━━━━━━━━━━━━━━━━━━━━━━━━━━━━━\u001b[0m \u001b[32m41.5/41.5 kB\u001b[0m \u001b[31m3.0 MB/s\u001b[0m eta \u001b[36m0:00:00\u001b[0m\n",
            "\u001b[?25h  Preparing metadata (setup.py) ... \u001b[?25l\u001b[?25hdone\n",
            "  Building wheel for qml (setup.py) ... \u001b[?25l\u001b[?25hdone\n"
          ]
        }
      ]
    },
    {
      "cell_type": "code",
      "metadata": {
        "id": "SFHYtaFWUiOd"
      },
      "source": [
        "#Si marca error, hay que reiniciar y ejecutar todo de nuevo\n",
        "import qml"
      ],
      "execution_count": 1,
      "outputs": []
    },
    {
      "cell_type": "code",
      "source": [
        "#Cargar el archivo hojas-1-10000.tar.bz2"
      ],
      "metadata": {
        "id": "rq47MyXAtR38"
      },
      "execution_count": null,
      "outputs": []
    },
    {
      "cell_type": "code",
      "source": [
        "!tar -xf hojas-1-10000.tar.bz2"
      ],
      "metadata": {
        "id": "asqC9WE3IGCp"
      },
      "execution_count": 2,
      "outputs": []
    },
    {
      "cell_type": "code",
      "source": [
        "import os\n",
        "import numpy as np\n",
        "import dgl\n",
        "from dgl.data import DGLDataset\n",
        "import torch as th\n",
        "import torch.nn as nn\n",
        "import torch.nn.functional as F\n",
        "\n",
        "xyz_dir = 'hojas-1-10000/'  # en esta carpeta van los archivos xyz\n",
        "graphs = []\n",
        "labels = []\n",
        "\n",
        "file_count = 0\n",
        "for file_name in [f for f in os.listdir(xyz_dir) if f.endswith('.xyz')]:\n",
        "    if file_count >= 500:\n",
        "        break\n",
        "\n",
        "    file = xyz_dir + file_name\n",
        "    mol = qml.Compound(xyz=file)\n",
        "    nuclear=mol.nuclear_charges\n",
        "    # Mapea las cargas a un indice para aumentar las features\n",
        "    nuclear_to_atom_type_map = {6: 0, 7: 1, 5: -1}\n",
        "    atom_type_values = np.array([nuclear_to_atom_type_map[nuclear_charge] for nuclear_charge in nuclear])\n",
        "\n",
        "    with open(file) as f:\n",
        "        n_atoms = int(f.readline().strip())\n",
        "\n",
        "\n",
        "        header_info = f.readline().strip()\n",
        "        energy, nC, nB, nN = header_info.split()[1:5]\n",
        "        energy = float(energy[:-1])  \n",
        "\n",
        "        coords = np.array([list(map(float, line.strip().split()[1:])) for line in f.readlines()])\n",
        "        \n",
        "\n",
        "        dist_mat = np.zeros((n_atoms, n_atoms))\n",
        "        for i in range(n_atoms):\n",
        "            for j in range(i + 1, n_atoms):\n",
        "                dist = np.linalg.norm(coords[i] - coords[j])\n",
        "                if dist<1.5:\n",
        "                  dist_mat[i, j]=dist\n",
        "\n",
        "        dist_mat += dist_mat.T - np.diag(dist_mat.diagonal())\n",
        "\n",
        "        A = (dist_mat > 0).astype(int)\n",
        "        u, v = np.nonzero(A)\n",
        "        g = dgl.graph((u, v))\n",
        "        g = dgl.add_self_loop(g)\n",
        "        #feat = th.tensor(nuclear, dtype=th.float32)\n",
        "        features = np.vstack((nuclear, atom_type_values)).T\n",
        "        feat = th.tensor(features, dtype=th.float32)\n",
        "\n",
        "        g.ndata['feat'] = feat\n",
        "        graphs.append(g)\n",
        "\n",
        "        labels.append(energy)  # Energia como target\n",
        "\n",
        "    file_count += 1\n",
        "\n",
        "labels = th.tensor(labels, dtype=th.float32)  # Convert labels to a PyTorch tensor\n",
        "labels = th.abs(labels)\n",
        "labels = (labels - th.mean(labels)) / th.std(labels)\n",
        "\n",
        "\n",
        "#salvar a disco graphs y labels\n",
        "th.save(graphs, 'graphs.pt')\n",
        "th.save(labels, 'labels.pt')\n",
        "\n",
        "\n",
        "       \n"
      ],
      "metadata": {
        "id": "ovH7fG1KL-od",
        "colab": {
          "base_uri": "https://localhost:8080/"
        },
        "outputId": "154dd1c6-06e0-4907-a0c4-50252e1227e8"
      },
      "execution_count": 3,
      "outputs": [
        {
          "output_type": "stream",
          "name": "stderr",
          "text": [
            "DGL backend not selected or invalid.  Assuming PyTorch for now.\n"
          ]
        },
        {
          "output_type": "stream",
          "name": "stdout",
          "text": [
            "Setting the default backend to \"pytorch\". You can change it in the ~/.dgl/config.json file or export the DGLBACKEND environment variable.  Valid options are: pytorch, mxnet, tensorflow (all lowercase)\n"
          ]
        }
      ]
    },
    {
      "cell_type": "code",
      "source": [
        "import matplotlib.pyplot as plt\n",
        "#labels = th.load('labels.pt')\n",
        "plt.hist(labels.numpy(), bins=20)\n",
        "plt.xlabel('Energy')\n",
        "plt.ylabel('Frequency')\n",
        "plt.title('Energy Distribution')\n",
        "plt.show()\n"
      ],
      "metadata": {
        "colab": {
          "base_uri": "https://localhost:8080/",
          "height": 472
        },
        "id": "5DFkvEYpayuv",
        "outputId": "58c456f3-40ce-436e-b68b-c397bcf22a5b"
      },
      "execution_count": 4,
      "outputs": [
        {
          "output_type": "display_data",
          "data": {
            "text/plain": [
              "<Figure size 640x480 with 1 Axes>"
            ],
            "image/png": "[encoded data removed]"
          },
          "metadata": {}
        }
      ]
    },
    {
      "cell_type": "code",
      "source": [
        "graphs = th.load('graphs.pt')\n",
        "labels = th.load('labels.pt')\n",
        "\n",
        "class SyntheticDataset(DGLDataset):\n",
        "    def __init__(self):\n",
        "        super().__init__(name='synthetic')\n",
        "\n",
        "    def process(self):\n",
        "        self.graphs = graphs\n",
        "        self.labels = labels\n",
        "\n",
        "    def __getitem__(self, i):\n",
        "        return self.graphs[i], self.labels[i]\n",
        "\n",
        "    def __len__(self):\n",
        "        return len(self.graphs)\n",
        "\n",
        "dataset = SyntheticDataset()\n",
        "\n",
        "from dgl.dataloading import GraphDataLoader\n",
        "from torch.utils.data.sampler import SubsetRandomSampler\n",
        "\n",
        "num_examples = len(dataset)\n",
        "num_train = int(num_examples * 0.8)\n",
        "\n",
        "train_sampler = SubsetRandomSampler(th.arange(num_train))\n",
        "test_sampler = SubsetRandomSampler(th.arange(num_train, num_examples))\n",
        "\n",
        "train_dataloader = GraphDataLoader(\n",
        "    dataset, sampler=train_sampler, batch_size=5, drop_last=False)\n",
        "test_dataloader = GraphDataLoader(\n",
        "    dataset, sampler=test_sampler, batch_size=5, drop_last=False)\n",
        "\n",
        "from dgl.nn import GraphConv\n",
        "\n",
        "class GCN(nn.Module):\n",
        "    def __init__(self, in_feats, h_feats, num_classes):\n",
        "        super(GCN, self).__init__()\n",
        "        self.conv1 = GraphConv(in_feats, h_feats)\n",
        "        self.conv2 = GraphConv(h_feats, num_classes)\n",
        "        #self.conv3 = GraphConv(h_feats, num_classes)\n",
        "        self.fc = nn.Linear(num_classes, 1)\n",
        "\n",
        "    def forward(self, g, in_feat):\n",
        "        h = self.conv1(g, in_feat)\n",
        "        h = F.relu(h)\n",
        "        h = self.conv2(g, h)\n",
        "        h = F.relu(h)\n",
        "        #h = self.conv3(g,h)\n",
        "        g.ndata['h'] = h\n",
        "        h_g = dgl.mean_nodes(g, 'h')\n",
        "        out = self.fc(h_g)\n",
        "        return out\n",
        "\n",
        "\n",
        "model = GCN(2, 64, 32)\n",
        "optimizer = th.optim.Adam(model.parameters(), lr=0.001)\n",
        "criterion = nn.MSELoss()\n",
        "\n",
        "\n",
        "num_epochs = 100\n",
        "for epoch in range(num_epochs):\n",
        "    model.train()\n",
        "    epoch_loss = 0\n",
        "    for batched_graph, energy in train_dataloader:\n",
        "        prediction = model(batched_graph, batched_graph.ndata['feat'])\n",
        "        loss = criterion(prediction, energy.unsqueeze(1))\n",
        "        optimizer.zero_grad()\n",
        "        loss.backward()\n",
        "        optimizer.step()\n",
        "        epoch_loss += loss.item()\n",
        "    print(f\"Epoch {epoch + 1}, Loss: {epoch_loss / len(train_dataloader)}\")\n",
        "\n",
        "\n",
        "model.eval()\n",
        "test_loss = 0\n",
        "with th.no_grad():\n",
        "    for batched_graph, energy in test_dataloader:\n",
        "        prediction = model(batched_graph, batched_graph.ndata['feat'])\n",
        "        loss = criterion(prediction, energy.unsqueeze(1))\n",
        "        test_loss += loss.item()\n",
        "print(f\"Test Loss: {test_loss / len(test_dataloader)}\")\n"
      ],
      "metadata": {
        "id": "p2cfMAUMNQah",
        "colab": {
          "base_uri": "https://localhost:8080/"
        },
        "outputId": "30eb0d1e-6c56-4e1d-ffe9-4c549142dcd5"
      },
      "execution_count": 5,
      "outputs": [
        {
          "output_type": "stream",
          "name": "stderr",
          "text": [
            "/usr/local/lib/python3.9/dist-packages/dgl/backend/pytorch/tensor.py:445: UserWarning: TypedStorage is deprecated. It will be removed in the future and UntypedStorage will be the only storage class. This should only matter to you if you are using storages directly.  To access UntypedStorage directly, use tensor.untyped_storage() instead of tensor.storage()\n",
            "  assert input.numel() == input.storage().size(), (\n"
          ]
        },
        {
          "output_type": "stream",
          "name": "stdout",
          "text": [
            "Epoch 1, Loss: 1.0566432083025574\n",
            "Epoch 2, Loss: 0.9973901867866516\n",
            "Epoch 3, Loss: 1.008057512436062\n",
            "Epoch 4, Loss: 1.0028240049257875\n",
            "Epoch 5, Loss: 0.9946156971156597\n",
            "Epoch 6, Loss: 1.01348920147866\n",
            "Epoch 7, Loss: 0.9979869408532978\n",
            "Epoch 8, Loss: 1.0005587263032794\n",
            "Epoch 9, Loss: 0.9915552598424255\n",
            "Epoch 10, Loss: 0.9949602942913771\n",
            "Epoch 11, Loss: 0.9934806391596794\n",
            "Epoch 12, Loss: 0.9833154559135437\n",
            "Epoch 13, Loss: 0.9820477914065122\n",
            "Epoch 14, Loss: 0.9652794048190116\n",
            "Epoch 15, Loss: 0.9834737228229642\n",
            "Epoch 16, Loss: 0.9623778715729714\n",
            "Epoch 17, Loss: 0.9483274823054672\n",
            "Epoch 18, Loss: 0.9506944479420781\n",
            "Epoch 19, Loss: 0.928311129938811\n",
            "Epoch 20, Loss: 0.9205878058448433\n",
            "Epoch 21, Loss: 0.8938084714114666\n",
            "Epoch 22, Loss: 0.8669545539654792\n",
            "Epoch 23, Loss: 0.854892105422914\n",
            "Epoch 24, Loss: 0.8022136432118714\n",
            "Epoch 25, Loss: 0.7571085523813963\n",
            "Epoch 26, Loss: 0.7717829741537571\n",
            "Epoch 27, Loss: 0.656166186183691\n",
            "Epoch 28, Loss: 0.6129846001043916\n",
            "Epoch 29, Loss: 0.5151094773784279\n",
            "Epoch 30, Loss: 0.4427044553216547\n",
            "Epoch 31, Loss: 0.3803936534561217\n",
            "Epoch 32, Loss: 0.29492276762612163\n",
            "Epoch 33, Loss: 0.2315483311889693\n",
            "Epoch 34, Loss: 0.16278023665072397\n",
            "Epoch 35, Loss: 0.1365570472087711\n",
            "Epoch 36, Loss: 0.0968298010644503\n",
            "Epoch 37, Loss: 0.08418148919008672\n",
            "Epoch 38, Loss: 0.06258580895373597\n",
            "Epoch 39, Loss: 0.054479177843313666\n",
            "Epoch 40, Loss: 0.055748106993269174\n",
            "Epoch 41, Loss: 0.043316014006268236\n",
            "Epoch 42, Loss: 0.03934842492453754\n",
            "Epoch 43, Loss: 0.040424978570081295\n",
            "Epoch 44, Loss: 0.03728024276788346\n",
            "Epoch 45, Loss: 0.03868635728722438\n",
            "Epoch 46, Loss: 0.035488622734555976\n",
            "Epoch 47, Loss: 0.040880171855678785\n",
            "Epoch 48, Loss: 0.04060264590079896\n",
            "Epoch 49, Loss: 0.03833529397379607\n",
            "Epoch 50, Loss: 0.03590997337887529\n",
            "Epoch 51, Loss: 0.034915228225872855\n",
            "Epoch 52, Loss: 0.039811353042023254\n",
            "Epoch 53, Loss: 0.038401331956265494\n",
            "Epoch 54, Loss: 0.03808819937694352\n",
            "Epoch 55, Loss: 0.04092417171923444\n",
            "Epoch 56, Loss: 0.03643822158628609\n",
            "Epoch 57, Loss: 0.03638871874718461\n",
            "Epoch 58, Loss: 0.03470977238030173\n",
            "Epoch 59, Loss: 0.03738013919210061\n",
            "Epoch 60, Loss: 0.033407192159211264\n",
            "Epoch 61, Loss: 0.0349781047727447\n",
            "Epoch 62, Loss: 0.03837685576290824\n",
            "Epoch 63, Loss: 0.03808816275559366\n",
            "Epoch 64, Loss: 0.0392501374706626\n",
            "Epoch 65, Loss: 0.037928156946145465\n",
            "Epoch 66, Loss: 0.034560224777669644\n",
            "Epoch 67, Loss: 0.03590462855063379\n",
            "Epoch 68, Loss: 0.0324863292160444\n",
            "Epoch 69, Loss: 0.03247875761589967\n",
            "Epoch 70, Loss: 0.0341049042326631\n",
            "Epoch 71, Loss: 0.03160526317660697\n",
            "Epoch 72, Loss: 0.035783934593200686\n",
            "Epoch 73, Loss: 0.03296183423517505\n",
            "Epoch 74, Loss: 0.03539846268249676\n",
            "Epoch 75, Loss: 0.0355641023546923\n",
            "Epoch 76, Loss: 0.03161065806925763\n",
            "Epoch 77, Loss: 0.033392195391934366\n",
            "Epoch 78, Loss: 0.031074947910383344\n",
            "Epoch 79, Loss: 0.030581779897329398\n",
            "Epoch 80, Loss: 0.03292050656164065\n",
            "Epoch 81, Loss: 0.029442446335451677\n",
            "Epoch 82, Loss: 0.03337051425478421\n",
            "Epoch 83, Loss: 0.02927081976085901\n",
            "Epoch 84, Loss: 0.03449175514397211\n",
            "Epoch 85, Loss: 0.032313172426074746\n",
            "Epoch 86, Loss: 0.03177948106313124\n",
            "Epoch 87, Loss: 0.030965749348979443\n",
            "Epoch 88, Loss: 0.03202254227217054\n",
            "Epoch 89, Loss: 0.03165814693784341\n",
            "Epoch 90, Loss: 0.030758777738083155\n",
            "Epoch 91, Loss: 0.02796506464947015\n",
            "Epoch 92, Loss: 0.03013061137899058\n",
            "Epoch 93, Loss: 0.0289668477664236\n",
            "Epoch 94, Loss: 0.030571623612195252\n",
            "Epoch 95, Loss: 0.027946298650203972\n",
            "Epoch 96, Loss: 0.028759791381889954\n",
            "Epoch 97, Loss: 0.03138196085346863\n",
            "Epoch 98, Loss: 0.030545735461055303\n",
            "Epoch 99, Loss: 0.031406224402599034\n",
            "Epoch 100, Loss: 0.02992834944452625\n",
            "Test Loss: 0.039010956417769194\n"
          ]
        }
      ]
    },
    {
      "cell_type": "code",
      "source": [
        "import matplotlib.pyplot as plt\n",
        "\n",
        "\n",
        "model.eval()\n",
        "test_loss = 0\n",
        "true_energies = []\n",
        "predicted_energies = []\n",
        "with th.no_grad():\n",
        "    for batched_graph, energy in test_dataloader:\n",
        "        prediction = model(batched_graph, batched_graph.ndata['feat'])\n",
        "        loss = criterion(prediction, energy.unsqueeze(1))\n",
        "        test_loss += loss.item()\n",
        "\n",
        "        true_energies.extend(energy.tolist())\n",
        "        predicted_energies.extend(prediction.squeeze().tolist())\n",
        "\n",
        "print(f\"Test Loss: {test_loss / len(test_dataloader)}\")\n",
        "\n",
        "plt.scatter(true_energies, predicted_energies, alpha=0.5)\n",
        "plt.plot(true_energies,true_energies)\n",
        "plt.xlabel('True Energy')\n",
        "plt.ylabel('Predicted Energy')\n",
        "plt.title('True Energy vs Predicted Energy')\n",
        "plt.show()\n"
      ],
      "metadata": {
        "colab": {
          "base_uri": "https://localhost:8080/",
          "height": 489
        },
        "id": "-_EMcD9NRbj4",
        "outputId": "8a896602-69e0-4692-8c27-b8a91931ac55"
      },
      "execution_count": 6,
      "outputs": [
        {
          "output_type": "stream",
          "name": "stdout",
          "text": [
            "Test Loss: 0.039010955346748234\n"
          ]
        },
        {
          "output_type": "display_data",
          "data": {
            "text/plain": [
              "<Figure size 640x480 with 1 Axes>"
            ],
            "image/png": "[encoded data removed]"
          },
          "metadata": {}
        }
      ]
    }
  ]
}