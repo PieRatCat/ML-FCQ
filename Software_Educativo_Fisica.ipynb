{
  "nbformat": 4,
  "nbformat_minor": 0,
  "metadata": {
    "colab": {
      "name": "Software_Educativo_Fisica.ipynb",
      "provenance": [],
      "collapsed_sections": [],
      "include_colab_link": true
    },
    "kernelspec": {
      "name": "python3",
      "display_name": "Python 3"
    }
  },
  "cells": [
    {
      "cell_type": "markdown",
      "metadata": {
        "id": "view-in-github",
        "colab_type": "text"
      },
      "source": [
        "<a href=\"https://colab.research.google.com/github/napoles-uach/ML-FCQ/blob/main/Software_Educativo_Fisica.ipynb\" target=\"_parent\"><img src=\"https://colab.research.google.com/assets/colab-badge.svg\" alt=\"Open In Colab\"/></a>"
      ]
    },
    {
      "cell_type": "markdown",
      "metadata": {
        "id": "mlRCMYthtMUN"
      },
      "source": [
        "## Software Educativo para apoyo en la enseñanza de la física de ondas. Elaborado por los profesores D.C. José Manuel Nápoles Duarte, D.C. Juan Pedro Palomares Baez y M. C. Carlos Armando de la Vega Cobos de la Facultad de Ciencias Químicas de la Universidad  Autónoma de Chihuahua.\n",
        "### 25 de Marzo de 2021"
      ]
    },
    {
      "cell_type": "markdown",
      "metadata": {
        "id": "U2rllve-skbc"
      },
      "source": [
        "# 1) Instalación de librerías requeridas"
      ]
    },
    {
      "cell_type": "code",
      "metadata": {
        "id": "qRQMMZ5qDI_E"
      },
      "source": [
        "!pip -q install streamlit\n",
        "!pip -q install pyngrok"
      ],
      "execution_count": null,
      "outputs": []
    },
    {
      "cell_type": "markdown",
      "metadata": {
        "id": "_ur4nz6qsrKi"
      },
      "source": [
        "# 2) Código en python para la aplicación web."
      ]
    },
    {
      "cell_type": "code",
      "metadata": {
        "id": "nrI8dgogDf5b",
        "colab": {
          "base_uri": "https://localhost:8080/"
        },
        "outputId": "55fc81fc-ad75-42af-a7e5-d4459613e5bc"
      },
      "source": [
        "%%writefile app.py\n",
        "import streamlit as st\n",
        "import numpy as np\n",
        "import matplotlib.pyplot as plt\n",
        "st.sidebar.title('Software Educativo para el estudio de fenómenos ondulatorios')\n",
        "op1=st.sidebar.radio(\"\",['Ondas Estacionarias','Interferencia de Ondas','Onda general'])\n",
        "if op1=='Ondas Estacionarias':\n",
        "  st.title(op1)\n",
        "  n=st.slider('',1,10)\n",
        "  x=np.linspace(0,2*np.pi,150)\n",
        "#st.write(x)\n",
        "  y=np.sin(n*x/2)\n",
        "  fig, ax = plt.subplots()\n",
        "  ax.plot(x,y)\n",
        "  st.pyplot(fig)\n",
        "\n",
        "#op1=st.sidebar.button('Ondas progresivas')\n",
        "if op1 == 'Interferencia de Ondas' :\n",
        "  st.title(op1)\n",
        "  casos=st.sidebar.multiselect('Multiselect', [1,2,3])\n",
        "  \n",
        "  \n",
        "  if casos:\n",
        "    \n",
        "    x=np.linspace(0,4*2*np.pi,150)\n",
        "    y=0*x\n",
        "    for caso in casos:\n",
        "      y1=np.sin(caso*x/2)\n",
        "      y=y+y1\n",
        "    \n",
        "    #s=st.slider(\"\",1,10)\n",
        "    fig, ax = plt.subplots()\n",
        "    ax.plot(x,y)\n",
        "    st.pyplot(fig)\n",
        "\n",
        "if op1 == 'Onda general':\n",
        "  x=np.linspace(0,2*np.pi,150)\n",
        "  st.title(op1)\n",
        "  onda=st.sidebar.selectbox('Selecciona la función', [\"Seno\",\"Coseno\"])\n",
        "  k=st.sidebar.selectbox('selecciona k',[1,2,3,4,5])\n",
        "  fi=st.sidebar.select_slider('Slide phi', options=[0,10,15,20,25,30,35,40,45,50,55,60,65,70,75,80,85,90])\n",
        "  if onda==\"Seno\":\n",
        "    st.latex(r''' \\sin(kx - \\phi) ''')\n",
        "    y=np.sin(k*x-fi*np.pi/180)\n",
        "    fig, ax = plt.subplots()\n",
        "    ax.plot(x,y)\n",
        "    st.pyplot(fig)\n",
        "  else:\n",
        "  #else onda==\"Seno\":\n",
        "    st.latex(r''' \\cos(kx - \\phi) ''')\n",
        "    y=np.cos(k*x-fi*np.pi/180)\n",
        "    fig, ax = plt.subplots()\n",
        "    ax.plot(x,y)\n",
        "    st.pyplot(fig)\n",
        "\n",
        "st.sidebar.write('Software elaborado para apoyo en la enseñanza de la física de ondas')\n",
        "st.sidebar.text('''\n",
        "Profesores participantes:\n",
        "M.C. Carlos Armando de la Vega Cobos\n",
        "D.C. Juan Pedro Palomares Baez\n",
        "D.C. José Manuel Nápoles Duarte\n",
        "''')\n",
        "st.sidebar.text('Facultad de Ciencias Químicas')\n",
        "st.sidebar.text('Universidad Autónoma de Chihuahua')\n",
        "\n",
        "\n"
      ],
      "execution_count": 2,
      "outputs": [
        {
          "output_type": "stream",
          "text": [
            "Writing app.py\n"
          ],
          "name": "stdout"
        }
      ]
    },
    {
      "cell_type": "markdown",
      "metadata": {
        "id": "7EPRfCPZs16I"
      },
      "source": [
        "# 3) Celda para generar el link a la aplicación web"
      ]
    },
    {
      "cell_type": "code",
      "metadata": {
        "id": "FTUt5JjyDkUz"
      },
      "source": [
        "from pyngrok import ngrok\n",
        "public_url = ngrok.connect(port='80')\n",
        "print('Link to web app:')\n",
        "print (public_url)\n",
        "!streamlit run --server.port 80 app.py >/dev/null"
      ],
      "execution_count": null,
      "outputs": []
    }
  ]
}