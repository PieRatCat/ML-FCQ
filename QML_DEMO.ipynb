{
  "nbformat": 4,
  "nbformat_minor": 0,
  "metadata": {
    "colab": {
      "provenance": [],
      "collapsed_sections": [],
      "authorship_tag": "ABX9TyNKOs/E8Nj4J8F+JuJeE/cB",
      "include_colab_link": true
    },
    "kernelspec": {
      "name": "python3",
      "display_name": "Python 3"
    },
    "language_info": {
      "name": "python"
    }
  },
  "cells": [
    {
      "cell_type": "markdown",
      "metadata": {
        "id": "view-in-github",
        "colab_type": "text"
      },
      "source": [
        "<a href=\"https://colab.research.google.com/github/napoles-uach/ML-FCQ/blob/main/QML_DEMO.ipynb\" target=\"_parent\"><img src=\"https://colab.research.google.com/assets/colab-badge.svg\" alt=\"Open In Colab\"/></a>"
      ]
    },
    {
      "cell_type": "code",
      "source": [
        "pip install qml --user -U"
      ],
      "metadata": {
        "colab": {
          "base_uri": "https://localhost:8080/"
        },
        "id": "s6ZbmdtKiklF",
        "outputId": "837b1fd4-c46f-4c92-885a-93f820513b38"
      },
      "execution_count": 1,
      "outputs": [
        {
          "output_type": "stream",
          "name": "stdout",
          "text": [
            "Looking in indexes: https://pypi.org/simple, https://us-python.pkg.dev/colab-wheels/public/simple/\n",
            "Collecting qml\n",
            "  Downloading qml-0.4.0.27.tar.gz (41 kB)\n",
            "\u001b[K     |████████████████████████████████| 41 kB 154 kB/s \n",
            "\u001b[?25hBuilding wheels for collected packages: qml\n",
            "  Building wheel for qml (setup.py) ... \u001b[?25l\u001b[?25hdone\n",
            "  Created wheel for qml: filename=qml-0.4.0.27-cp37-cp37m-linux_x86_64.whl size=1036830 sha256=0d9dea26619e3d2b61e844c329de16307298b3c287654f1dfd02608c4e0b45bf\n",
            "  Stored in directory: /root/.cache/pip/wheels/e4/6f/cc/cc6ed17565977d62aab6730e348c2e9d8c51c559896c467f74\n",
            "Successfully built qml\n",
            "Installing collected packages: qml\n",
            "Successfully installed qml-0.4.0.27\n"
          ]
        }
      ]
    },
    {
      "cell_type": "markdown",
      "source": [
        "# Se requiere reiniciar el entorno de ejecucion"
      ],
      "metadata": {
        "id": "l_IXSDSFjMD-"
      }
    },
    {
      "cell_type": "code",
      "execution_count": 1,
      "metadata": {
        "colab": {
          "base_uri": "https://localhost:8080/"
        },
        "id": "HDOnD7Nghu3T",
        "outputId": "78b015f6-9135-4a05-a46a-55c031ac21bc"
      },
      "outputs": [
        {
          "output_type": "stream",
          "name": "stdout",
          "text": [
            "Printing version info for help reporting bugs\n",
            "Python version: 3.7.15 (default, Oct 12 2022, 19:14:55) \n",
            "[GCC 7.5.0]\n",
            "QML version: 0.2.1\n"
          ]
        }
      ],
      "source": [
        "\n",
        "from __future__ import print_function\n",
        "\n",
        "import sys\n",
        "print(\"Printing version info for help reporting bugs\")\n",
        "print(\"Python version:\", sys.version)\n",
        "\n",
        "import pandas as pd\n",
        "import seaborn as sns\n",
        "import numpy as np\n",
        "import matplotlib.pyplot as plt\n",
        "%matplotlib inline\n",
        "\n",
        "from sklearn import metrics\n",
        "from sklearn.model_selection import train_test_split\n",
        "from sklearn.kernel_ridge import KernelRidge\n",
        "\n",
        "try:\n",
        "    import qml\n",
        "    from qml.kernels import gaussian_kernel\n",
        "    from qml.kernels import laplacian_kernel\n",
        "    from qml.math import cho_solve\n",
        "    from qml.representations import get_slatm_mbtypes\n",
        "    \n",
        "    print(\"QML version:\",qml.__version__)\n",
        "except ImportError:\n",
        "    print(\"Failed to find QML\")\n",
        "    print(\"Please follow instructions here: http://www.qmlcode.org/installation.html\")"
      ]
    },
    {
      "cell_type": "code",
      "source": [
        "!git clone https://github.com/qmlcode/tutorial.git"
      ],
      "metadata": {
        "colab": {
          "base_uri": "https://localhost:8080/"
        },
        "id": "Jk7KLxKFhvvw",
        "outputId": "678a6803-8ca3-470f-befd-12fbf94b48b9"
      },
      "execution_count": 2,
      "outputs": [
        {
          "output_type": "stream",
          "name": "stdout",
          "text": [
            "Cloning into 'tutorial'...\n",
            "remote: Enumerating objects: 7146, done.\u001b[K\n",
            "remote: Total 7146 (delta 0), reused 0 (delta 0), pack-reused 7146\u001b[K\n",
            "Receiving objects: 100% (7146/7146), 2.12 MiB | 7.42 MiB/s, done.\n",
            "Resolving deltas: 100% (21/21), done.\n"
          ]
        }
      ]
    },
    {
      "cell_type": "code",
      "source": [
        "%cd tutorial"
      ],
      "metadata": {
        "colab": {
          "base_uri": "https://localhost:8080/"
        },
        "id": "lwN8XjeyiRHZ",
        "outputId": "90310caa-d235-4a43-dc46-7b6a861ddd1a"
      },
      "execution_count": 3,
      "outputs": [
        {
          "output_type": "stream",
          "name": "stdout",
          "text": [
            "/content/tutorial\n"
          ]
        }
      ]
    },
    {
      "cell_type": "code",
      "source": [
        "pip install py3DMol"
      ],
      "metadata": {
        "colab": {
          "base_uri": "https://localhost:8080/"
        },
        "id": "PSUqxfalbj-L",
        "outputId": "a4916a18-73ee-4a32-e5ef-90379ea80d5d"
      },
      "execution_count": 4,
      "outputs": [
        {
          "output_type": "stream",
          "name": "stdout",
          "text": [
            "Looking in indexes: https://pypi.org/simple, https://us-python.pkg.dev/colab-wheels/public/simple/\n",
            "Collecting py3DMol\n",
            "  Downloading py3Dmol-1.8.1-py2.py3-none-any.whl (6.5 kB)\n",
            "Installing collected packages: py3DMol\n",
            "Successfully installed py3DMol-1.8.1\n"
          ]
        }
      ]
    },
    {
      "cell_type": "code",
      "source": [
        "import py3Dmol\n",
        "mol = open(\"qm7/0001.xyz\", 'r').read()\n",
        "mol_view = py3Dmol.view(js='https://3dmol.org/build/3Dmol.js', width=400, height=400)\n",
        "mol_view.addModel(mol, 'xyz')\n",
        "mol_view.setStyle({'stick':{}})\n",
        "mol_view.setBackgroundColor('white')\n",
        "mol_view.zoomTo()\n",
        "mol_view.show()"
      ],
      "metadata": {
        "colab": {
          "base_uri": "https://localhost:8080/",
          "height": 417
        },
        "id": "vDk3kEthbxcH",
        "outputId": "c9d17239-7f50-46d3-8a50-1da9a8a7c6d2"
      },
      "execution_count": 5,
      "outputs": [
        {
          "output_type": "display_data",
          "data": {
            "application/3dmoljs_load.v0": "<div id=\"3dmolviewer_16678709652497377\"  style=\"position: relative; width: 400px; height: 400px\">\n        <p id=\"3dmolwarning_16678709652497377\" style=\"background-color:#ffcccc;color:black\">You appear to be running in JupyterLab (or JavaScript failed to load for some other reason).  You need to install the 3dmol extension: <br>\n        <tt>jupyter labextension install jupyterlab_3dmol</tt></p>\n        </div>\n<script>\n\nvar loadScriptAsync = function(uri){\n  return new Promise((resolve, reject) => {\n    var tag = document.createElement('script');\n    tag.src = uri;\n    tag.async = true;\n    tag.onload = () => {\n      resolve();\n    };\n  var firstScriptTag = document.getElementsByTagName('script')[0];\n  firstScriptTag.parentNode.insertBefore(tag, firstScriptTag);\n});\n};\n\nif(typeof $3Dmolpromise === 'undefined') {\n$3Dmolpromise = null;\n  $3Dmolpromise = loadScriptAsync('https://3dmol.org/build/3Dmol.js');\n}\n\nvar viewer_16678709652497377 = null;\nvar warn = document.getElementById(\"3dmolwarning_16678709652497377\");\nif(warn) {\n    warn.parentNode.removeChild(warn);\n}\n$3Dmolpromise.then(function() {\nviewer_16678709652497377 = $3Dmol.createViewer($(\"#3dmolviewer_16678709652497377\"),{backgroundColor:\"white\"});\nviewer_16678709652497377.zoomTo();\n\tviewer_16678709652497377.addModel(\"5\\ncharge = 0\\n C 1.041682 -0.056200 -0.071481\\n H 2.130894 -0.056202 -0.071496\\n H 0.678598 0.174941 -1.072044\\n H 0.678613 0.694746 0.628980\\n H 0.678614 -1.038285 0.228641\",\"xyz\");\n\tviewer_16678709652497377.setStyle({\"stick\": {}});\n\tviewer_16678709652497377.setBackgroundColor(\"white\");\n\tviewer_16678709652497377.zoomTo();\nviewer_16678709652497377.render();\n});\n</script>",
            "text/html": [
              "<div id=\"3dmolviewer_16678709652497377\"  style=\"position: relative; width: 400px; height: 400px\">\n",
              "        <p id=\"3dmolwarning_16678709652497377\" style=\"background-color:#ffcccc;color:black\">You appear to be running in JupyterLab (or JavaScript failed to load for some other reason).  You need to install the 3dmol extension: <br>\n",
              "        <tt>jupyter labextension install jupyterlab_3dmol</tt></p>\n",
              "        </div>\n",
              "<script>\n",
              "\n",
              "var loadScriptAsync = function(uri){\n",
              "  return new Promise((resolve, reject) => {\n",
              "    var tag = document.createElement('script');\n",
              "    tag.src = uri;\n",
              "    tag.async = true;\n",
              "    tag.onload = () => {\n",
              "      resolve();\n",
              "    };\n",
              "  var firstScriptTag = document.getElementsByTagName('script')[0];\n",
              "  firstScriptTag.parentNode.insertBefore(tag, firstScriptTag);\n",
              "});\n",
              "};\n",
              "\n",
              "if(typeof $3Dmolpromise === 'undefined') {\n",
              "$3Dmolpromise = null;\n",
              "  $3Dmolpromise = loadScriptAsync('https://3dmol.org/build/3Dmol.js');\n",
              "}\n",
              "\n",
              "var viewer_16678709652497377 = null;\n",
              "var warn = document.getElementById(\"3dmolwarning_16678709652497377\");\n",
              "if(warn) {\n",
              "    warn.parentNode.removeChild(warn);\n",
              "}\n",
              "$3Dmolpromise.then(function() {\n",
              "viewer_16678709652497377 = $3Dmol.createViewer($(\"#3dmolviewer_16678709652497377\"),{backgroundColor:\"white\"});\n",
              "viewer_16678709652497377.zoomTo();\n",
              "\tviewer_16678709652497377.addModel(\"5\\ncharge = 0\\n C 1.041682 -0.056200 -0.071481\\n H 2.130894 -0.056202 -0.071496\\n H 0.678598 0.174941 -1.072044\\n H 0.678613 0.694746 0.628980\\n H 0.678614 -1.038285 0.228641\",\"xyz\");\n",
              "\tviewer_16678709652497377.setStyle({\"stick\": {}});\n",
              "\tviewer_16678709652497377.setBackgroundColor(\"white\");\n",
              "\tviewer_16678709652497377.zoomTo();\n",
              "viewer_16678709652497377.render();\n",
              "});\n",
              "</script>"
            ]
          },
          "metadata": {}
        }
      ]
    },
    {
      "cell_type": "markdown",
      "source": [
        "![](https://pubs.acs.org/cms/10.1021/ct400195d/asset/images/large/ct-2013-00195d_0002.jpeg)"
      ],
      "metadata": {
        "id": "F_Vj5F5Dws4G"
      }
    },
    {
      "cell_type": "code",
      "source": [
        "# Create the compound object mol from the file qm7/0001.xyz which happens to be methane\n",
        "mol_test = qml.Compound(xyz=\"qm7/0003.xyz\")\n",
        "\n",
        "# Generate and print a coulomb matrix for compound\n",
        "mol_test.generate_coulomb_matrix(size=len(mol_test.nuclear_charges), )\n",
        "print(mol_test.representation)"
      ],
      "metadata": {
        "colab": {
          "base_uri": "https://localhost:8080/"
        },
        "id": "vXETGDSAaA-n",
        "outputId": "af6adc0f-dbf4-4dfb-b338-85ad14723e62"
      },
      "execution_count": 6,
      "outputs": [
        {
          "output_type": "stream",
          "name": "stdout",
          "text": [
            "[36.8581052  27.21063755 36.8581052   5.53152742  2.84944537  0.5\n",
            "  2.84944537  5.53152742  0.4061679   0.5         5.53152536  2.84944509\n",
            "  0.5416219   0.3249483   0.5         2.84944509  5.53152536  0.3249483\n",
            "  0.5416219   0.4061679   0.5       ]\n"
          ]
        }
      ]
    },
    {
      "cell_type": "code",
      "source": [
        "from tutorial_data import compounds\n",
        "from tutorial_data import energy_pbe0\n",
        "# For every compound generate a coulomb matrix\n",
        "for mol in compounds:\n",
        "    mol.generate_coulomb_matrix(size=23, sorting=\"row-norm\")"
      ],
      "metadata": {
        "id": "uk06ZnLKh9Rc"
      },
      "execution_count": 13,
      "outputs": []
    },
    {
      "cell_type": "code",
      "source": [
        "sns.kdeplot(energy_pbe0, shade=True, cut=0)"
      ],
      "metadata": {
        "colab": {
          "base_uri": "https://localhost:8080/",
          "height": 282
        },
        "id": "DRp8nA3NiUxY",
        "outputId": "83a4f88b-5685-4110-e3e0-628d6bd27957"
      },
      "execution_count": 14,
      "outputs": [
        {
          "output_type": "execute_result",
          "data": {
            "text/plain": [
              "<matplotlib.axes._subplots.AxesSubplot at 0x7f6d837a63d0>"
            ]
          },
          "metadata": {},
          "execution_count": 14
        },
        {
          "output_type": "display_data",
          "data": {
            "text/plain": [
              "<Figure size 432x288 with 1 Axes>"
            ],
            "image/png": "[encoded data removed]"
          },
          "metadata": {
            "needs_background": "light"
          }
        }
      ]
    },
    {
      "cell_type": "code",
      "source": [
        "# observable we are trying to predict\n",
        "y = energy_pbe0\n",
        "# molecular descriptor from qml\n",
        "X = np.array([mol.representation for mol in compounds]) \n",
        "\n",
        "# split our data into testing data and training data with sklearn\n",
        "X_train, X_test, y_train, y_test = train_test_split(X, y, test_size=0.33)"
      ],
      "metadata": {
        "id": "-uXXLgA9jhNb"
      },
      "execution_count": 9,
      "outputs": []
    },
    {
      "cell_type": "code",
      "source": [
        "# select the kernel you wish to use for fitting\n",
        "# and any preprocessing can be done here\n",
        "\n",
        "sigma = 4000\n",
        "gamma = 1.0/(2*sigma**2)\n",
        "alpha = 1e-8\n",
        "kernel = KernelRidge(gamma=gamma, kernel=\"rbf\", alpha=alpha)\n",
        "\n",
        "\n",
        "# find the fitting coeffecients\n",
        "kernel.fit(X_train, y_train)\n",
        "\n",
        "# and make predictions on test data\n",
        "predictions = kernel.predict(X_test)"
      ],
      "metadata": {
        "id": "EeeVniE4jmF5"
      },
      "execution_count": 10,
      "outputs": []
    },
    {
      "cell_type": "code",
      "source": [
        "data=pd.DataFrame(data={'Actual Energy [kcal/mol]': y_test, 'Predicted Energy [kcal/mol]': predictions})\n",
        "sns.lmplot(x=\"Actual Energy [kcal/mol]\",y=\"Predicted Energy [kcal/mol]\", truncate=True, data=data, size=6)"
      ],
      "metadata": {
        "colab": {
          "base_uri": "https://localhost:8080/",
          "height": 513
        },
        "id": "lsaA9JaijpiY",
        "outputId": "f1c6091d-5549-4b5e-cdd7-135d541dbb5c"
      },
      "execution_count": 11,
      "outputs": [
        {
          "output_type": "stream",
          "name": "stderr",
          "text": [
            "/usr/local/lib/python3.7/dist-packages/seaborn/regression.py:581: UserWarning: The `size` parameter has been renamed to `height`; please update your code.\n",
            "  warnings.warn(msg, UserWarning)\n"
          ]
        },
        {
          "output_type": "execute_result",
          "data": {
            "text/plain": [
              "<seaborn.axisgrid.FacetGrid at 0x7f6d864d0510>"
            ]
          },
          "metadata": {},
          "execution_count": 11
        },
        {
          "output_type": "display_data",
          "data": {
            "text/plain": [
              "<Figure size 432x432 with 1 Axes>"
            ],
            "image/png": "[encoded data removed]"
          },
          "metadata": {
            "needs_background": "light"
          }
        }
      ]
    },
    {
      "cell_type": "code",
      "source": [
        "print('MAE:', metrics.mean_absolute_error(y_test, predictions), \"kcal/mol\")\n",
        "print('MSE:', metrics.mean_squared_error(y_test, predictions), \"kcal/mol\")\n",
        "print('RMSE:', np.sqrt(metrics.mean_squared_error(y_test, predictions)), \"kcal/mol\")"
      ],
      "metadata": {
        "colab": {
          "base_uri": "https://localhost:8080/"
        },
        "id": "3b4Hjr-Vjt2w",
        "outputId": "6d68e141-546b-43f2-ca77-fe4b5dcdb51a"
      },
      "execution_count": 12,
      "outputs": [
        {
          "output_type": "stream",
          "name": "stdout",
          "text": [
            "MAE: 11.51653340189164 kcal/mol\n",
            "MSE: 230.9012735002745 kcal/mol\n",
            "RMSE: 15.195435943080886 kcal/mol\n"
          ]
        }
      ]
    }
  ]
}