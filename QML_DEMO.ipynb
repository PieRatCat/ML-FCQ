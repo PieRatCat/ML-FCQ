{
  "nbformat": 4,
  "nbformat_minor": 0,
  "metadata": {
    "colab": {
      "provenance": [],
      "authorship_tag": "ABX9TyOuFoNtEfYGFce5lnjvbQyl",
      "include_colab_link": true
    },
    "kernelspec": {
      "name": "python3",
      "display_name": "Python 3"
    },
    "language_info": {
      "name": "python"
    }
  },
  "cells": [
    {
      "cell_type": "markdown",
      "metadata": {
        "id": "view-in-github",
        "colab_type": "text"
      },
      "source": [
        "<a href=\"https://colab.research.google.com/github/napoles-uach/ML-FCQ/blob/main/QML_DEMO.ipynb\" target=\"_parent\"><img src=\"https://colab.research.google.com/assets/colab-badge.svg\" alt=\"Open In Colab\"/></a>"
      ]
    },
    {
      "cell_type": "code",
      "source": [
        "pip install qml --user -U"
      ],
      "metadata": {
        "colab": {
          "base_uri": "https://localhost:8080/"
        },
        "id": "s6ZbmdtKiklF",
        "outputId": "4e7af14c-6a39-4a56-c2f5-51e85d17652c"
      },
      "execution_count": 1,
      "outputs": [
        {
          "output_type": "stream",
          "name": "stdout",
          "text": [
            "Looking in indexes: https://pypi.org/simple, https://us-python.pkg.dev/colab-wheels/public/simple/\n",
            "Collecting qml\n",
            "  Downloading qml-0.4.0.27.tar.gz (41 kB)\n",
            "\u001b[K     |████████████████████████████████| 41 kB 211 kB/s \n",
            "\u001b[?25hBuilding wheels for collected packages: qml\n",
            "  Building wheel for qml (setup.py) ... \u001b[?25l\u001b[?25hdone\n",
            "  Created wheel for qml: filename=qml-0.4.0.27-cp37-cp37m-linux_x86_64.whl size=1057024 sha256=381ee0924cfaa7965aa1746a137c9a8dd100d1ac6fb7680ac7d0e4fced3730ef\n",
            "  Stored in directory: /root/.cache/pip/wheels/e4/6f/cc/cc6ed17565977d62aab6730e348c2e9d8c51c559896c467f74\n",
            "Successfully built qml\n",
            "Installing collected packages: qml\n",
            "Successfully installed qml-0.4.0.27\n"
          ]
        }
      ]
    },
    {
      "cell_type": "markdown",
      "source": [
        "# Se requiere reiniciar el entorno de ejecucion"
      ],
      "metadata": {
        "id": "l_IXSDSFjMD-"
      }
    },
    {
      "cell_type": "code",
      "execution_count": 1,
      "metadata": {
        "colab": {
          "base_uri": "https://localhost:8080/"
        },
        "id": "HDOnD7Nghu3T",
        "outputId": "feb21e29-9026-43cd-987c-1670019a11c7"
      },
      "outputs": [
        {
          "output_type": "stream",
          "name": "stdout",
          "text": [
            "Printing version info for help reporting bugs\n",
            "Python version: 3.7.15 (default, Oct 12 2022, 19:14:55) \n",
            "[GCC 7.5.0]\n",
            "QML version: 0.2.1\n"
          ]
        }
      ],
      "source": [
        "\n",
        "from __future__ import print_function\n",
        "\n",
        "import sys\n",
        "print(\"Printing version info for help reporting bugs\")\n",
        "print(\"Python version:\", sys.version)\n",
        "\n",
        "import pandas as pd\n",
        "import seaborn as sns\n",
        "import numpy as np\n",
        "import matplotlib.pyplot as plt\n",
        "%matplotlib inline\n",
        "\n",
        "from sklearn import metrics\n",
        "from sklearn.model_selection import train_test_split\n",
        "from sklearn.kernel_ridge import KernelRidge\n",
        "\n",
        "try:\n",
        "    import qml\n",
        "    from qml.kernels import gaussian_kernel\n",
        "    from qml.kernels import laplacian_kernel\n",
        "    from qml.math import cho_solve\n",
        "    from qml.representations import get_slatm_mbtypes\n",
        "    \n",
        "    print(\"QML version:\",qml.__version__)\n",
        "except ImportError:\n",
        "    print(\"Failed to find QML\")\n",
        "    print(\"Please follow instructions here: http://www.qmlcode.org/installation.html\")"
      ]
    },
    {
      "cell_type": "code",
      "source": [
        "!git clone https://github.com/qmlcode/tutorial.git"
      ],
      "metadata": {
        "colab": {
          "base_uri": "https://localhost:8080/"
        },
        "id": "Jk7KLxKFhvvw",
        "outputId": "67d3eb15-33fa-4860-c270-7f9124d4b656"
      },
      "execution_count": 2,
      "outputs": [
        {
          "output_type": "stream",
          "name": "stdout",
          "text": [
            "Cloning into 'tutorial'...\n",
            "remote: Enumerating objects: 7146, done.\u001b[K\n",
            "remote: Total 7146 (delta 0), reused 0 (delta 0), pack-reused 7146\u001b[K\n",
            "Receiving objects: 100% (7146/7146), 2.12 MiB | 4.46 MiB/s, done.\n",
            "Resolving deltas: 100% (21/21), done.\n"
          ]
        }
      ]
    },
    {
      "cell_type": "code",
      "source": [
        "%cd tutorial"
      ],
      "metadata": {
        "colab": {
          "base_uri": "https://localhost:8080/"
        },
        "id": "lwN8XjeyiRHZ",
        "outputId": "58b961c9-8cbf-4923-d190-9ab57e5334b9"
      },
      "execution_count": 3,
      "outputs": [
        {
          "output_type": "stream",
          "name": "stdout",
          "text": [
            "/content/tutorial\n"
          ]
        }
      ]
    },
    {
      "cell_type": "code",
      "source": [
        "# Import QM7, already parsed to QML\n",
        "from tutorial_data import compounds\n",
        "from tutorial_data import energy_pbe0\n",
        "# Assume 'qm7' is a list of Compound() objects.\n",
        "mbtypes = get_slatm_mbtypes([mol.nuclear_charges for mol in compounds])\n",
        "\n",
        "\n",
        "# For every compound generate a coulomb matrix or BoB\n",
        "for mol in compounds: #can lower this if you need to via compounds[:1000] to just use first 1k molecules\n",
        "    # you can select other descriptors here\n",
        "    # full list here http://www.qmlcode.org/qml.html#module-qml.representations\n",
        "    mol.generate_coulomb_matrix(size=23, sorting=\"row-norm\")\n",
        "    # mol.generate_slatm(mbtypes, local=False)\n",
        "    # mol.generate_bob(size=23, asize={\"O\":3, \"C\":7, \"N\":3, \"H\":16, \"S\":1})"
      ],
      "metadata": {
        "id": "uk06ZnLKh9Rc"
      },
      "execution_count": 19,
      "outputs": []
    },
    {
      "cell_type": "code",
      "source": [
        "sns.kdeplot(energy_pbe0, shade=True, cut=0)"
      ],
      "metadata": {
        "colab": {
          "base_uri": "https://localhost:8080/",
          "height": 282
        },
        "id": "DRp8nA3NiUxY",
        "outputId": "ba43de97-3337-4a52-d94b-169c088bad05"
      },
      "execution_count": 20,
      "outputs": [
        {
          "output_type": "execute_result",
          "data": {
            "text/plain": [
              "<matplotlib.axes._subplots.AxesSubplot at 0x7f0c785a9210>"
            ]
          },
          "metadata": {},
          "execution_count": 20
        },
        {
          "output_type": "display_data",
          "data": {
            "text/plain": [
              "<Figure size 432x288 with 1 Axes>"
            ],
            "image/png": "[encoded data removed]"
          },
          "metadata": {
            "needs_background": "light"
          }
        }
      ]
    },
    {
      "cell_type": "code",
      "source": [
        "# observable we are trying to predict\n",
        "y = energy_pbe0\n",
        "# molecular descriptor from qml\n",
        "X = np.array([mol.representation for mol in compounds]) \n",
        "\n",
        "# split our data into testing data and training data with sklearn\n",
        "X_train, X_test, y_train, y_test = train_test_split(X, y, test_size=0.33)"
      ],
      "metadata": {
        "id": "-uXXLgA9jhNb"
      },
      "execution_count": 21,
      "outputs": []
    },
    {
      "cell_type": "code",
      "source": [
        "# select the kernel you wish to use for fitting\n",
        "# and any preprocessing can be done here\n",
        "# I only introduce this approach so others can play with \n",
        "# different kernels as a learning exercise\n",
        "# KRR shown here\n",
        "\n",
        "sigma = 4000\n",
        "gamma = 1.0/(2*sigma**2)\n",
        "alpha = 1e-8\n",
        "kernel = KernelRidge(gamma=gamma, kernel=\"rbf\", alpha=alpha)\n",
        "\n",
        "\n",
        "# find the fitting coeffecients\n",
        "kernel.fit(X_train, y_train)\n",
        "\n",
        "# and make predictions on test data\n",
        "predictions = kernel.predict(X_test)"
      ],
      "metadata": {
        "id": "EeeVniE4jmF5"
      },
      "execution_count": 22,
      "outputs": []
    },
    {
      "cell_type": "code",
      "source": [
        "data=pd.DataFrame(data={'Actual Energy [kcal/mol]': y_test, 'Predicted Energy [kcal/mol]': predictions})\n",
        "sns.lmplot(x=\"Actual Energy [kcal/mol]\",y=\"Predicted Energy [kcal/mol]\", truncate=True, data=data, size=6)"
      ],
      "metadata": {
        "colab": {
          "base_uri": "https://localhost:8080/",
          "height": 493
        },
        "id": "lsaA9JaijpiY",
        "outputId": "370b46e7-e9e1-456c-9b0e-7af33bdd8630"
      },
      "execution_count": 23,
      "outputs": [
        {
          "output_type": "stream",
          "name": "stderr",
          "text": [
            "/usr/local/lib/python3.7/dist-packages/seaborn/regression.py:581: UserWarning: The `size` parameter has been renamed to `height`; please update your code.\n",
            "  warnings.warn(msg, UserWarning)\n"
          ]
        },
        {
          "output_type": "execute_result",
          "data": {
            "text/plain": [
              "<seaborn.axisgrid.FacetGrid at 0x7f0c77edc710>"
            ]
          },
          "metadata": {},
          "execution_count": 23
        },
        {
          "output_type": "display_data",
          "data": {
            "text/plain": [
              "<Figure size 432x432 with 1 Axes>"
            ],
            "image/png": "[encoded data removed]"
          },
          "metadata": {
            "needs_background": "light"
          }
        }
      ]
    },
    {
      "cell_type": "code",
      "source": [
        "print('MAE:', metrics.mean_absolute_error(y_test, predictions), \"kcal/mol\")\n",
        "print('MSE:', metrics.mean_squared_error(y_test, predictions), \"kcal/mol\")\n",
        "print('RMSE:', np.sqrt(metrics.mean_squared_error(y_test, predictions)), \"kcal/mol\")"
      ],
      "metadata": {
        "colab": {
          "base_uri": "https://localhost:8080/"
        },
        "id": "3b4Hjr-Vjt2w",
        "outputId": "cf67fd59-3a89-46db-fcab-f8f54cacf27a"
      },
      "execution_count": 24,
      "outputs": [
        {
          "output_type": "stream",
          "name": "stdout",
          "text": [
            "MAE: 11.32736196645128 kcal/mol\n",
            "MSE: 335.6555606953765 kcal/mol\n",
            "RMSE: 18.320905018458465 kcal/mol\n"
          ]
        }
      ]
    },
    {
      "cell_type": "code",
      "source": [],
      "metadata": {
        "id": "kNGeX0xgjx0n"
      },
      "execution_count": null,
      "outputs": []
    }
  ]
}