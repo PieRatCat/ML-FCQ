{
  "nbformat": 4,
  "nbformat_minor": 0,
  "metadata": {
    "colab": {
      "name": "MaterialDidacticoUDA_ML.ipynb",
      "provenance": [],
      "collapsed_sections": [],
      "include_colab_link": true
    },
    "kernelspec": {
      "name": "python3",
      "display_name": "Python 3"
    }
  },
  "cells": [
    {
      "cell_type": "markdown",
      "metadata": {
        "id": "view-in-github",
        "colab_type": "text"
      },
      "source": [
        "<a href=\"https://colab.research.google.com/github/napoles-uach/ML-FCQ/blob/main/MaterialDidacticoUDA_ML.ipynb\" target=\"_parent\"><img src=\"https://colab.research.google.com/assets/colab-badge.svg\" alt=\"Open In Colab\"/></a>"
      ]
    },
    {
      "cell_type": "markdown",
      "metadata": {
        "id": "HfYLXRVBWc5B"
      },
      "source": [
        "# MATERIAL DIDÁCTICO INNOVADOR. Para uso en la UDA \"*Introducción al Machine Learning*\".\n",
        "## Elaborado por los profesores **José Manuel Nápoles Duarte** y **Juan Pedro Palomares Baez**.\n",
        "\n",
        "## Este material es una guia para diseñar una web app para reconocimiento de imagenes. Se utiliza la plataforma [Teachable Machine](https://teachablemachine.withgoogle.com/train) para generar un modelo de red neuronal convolucional.\n",
        "\n",
        "\n"
      ]
    },
    {
      "cell_type": "markdown",
      "metadata": {
        "id": "Dyplci-0ZdXM"
      },
      "source": [
        "# 1) Instalación de Liberías requeridas:\n",
        "* [Keras](https://keras.io/)\n",
        "* [Pillow](https://python-pillow.org/)\n",
        "* [Numpy](https://numpy.org/)\n",
        "* [Streamlit](https://streamlit.io/)\n",
        "* [pyngrok](https://pypi.org/project/pyngrok/)\n",
        "\n",
        "## Se instalan las librerías mediante el comando `pip`."
      ]
    },
    {
      "cell_type": "code",
      "metadata": {
        "id": "c4R_A0gjb7fn"
      },
      "source": [
        "!pip install keras pillow numpy\n",
        "!pip -q install streamlit\n",
        "!pip -q install pyngrok"
      ],
      "execution_count": null,
      "outputs": []
    },
    {
      "cell_type": "markdown",
      "metadata": {
        "id": "6PlldTc9R_pb"
      },
      "source": [
        "# 2) A continuación se descarga con el comando `wget` el modelo entrenado que fue previamente generado en Teachable Machine y que es guardado en el archivo `keras_model.h5`. "
      ]
    },
    {
      "cell_type": "code",
      "metadata": {
        "id": "EWNoDAg90hYc"
      },
      "source": [
        "!wget https://github.com/napoles-uach/streamlit_apps/raw/main/Streamlit_Colab/Models/Dog_Cat.h5\n",
        "!mv Dog_Cat.h5 keras_model.h5"
      ],
      "execution_count": null,
      "outputs": []
    },
    {
      "cell_type": "markdown",
      "metadata": {
        "id": "Pjl8MssXasJF"
      },
      "source": [
        "# 3) A continuación se genera el archivo `app.py` el cual contiene el código python para generar la web app."
      ]
    },
    {
      "cell_type": "code",
      "metadata": {
        "id": "nrI8dgogDf5b"
      },
      "source": [
        "%%writefile app.py\n",
        "import streamlit as st\n",
        "from img_classification import teachable_machine_classification\n",
        "import keras\n",
        "from PIL import Image, ImageOps\n",
        "import numpy as np\n",
        "st.title(\"Clasificación de Imagenes con Teachable Machine\")\n",
        "st.header(\"Ejemplo para clasificación de perros y gatos\")\n",
        "st.write(\"Sube una imagen de un perro o un gato para que el modelo haga la clasificación\")\n",
        "\n",
        "uploaded_file = st.file_uploader(\"Escoge una imagen en formato jpg\", type=\"jpg\")\n",
        "if uploaded_file is not None:\n",
        "  image = Image.open(uploaded_file)\n",
        "  st.image(image, caption='Imagen subida', use_column_width=True)\n",
        "  st.write(\"\")\n",
        "  st.write(\"Clasificando, espera un momento...\")\n",
        "  label = teachable_machine_classification(image, 'keras_model.h5') # Name of the model from Teachablemachine\n",
        "  if label == 0:\n",
        "    st.write(\"Es un perro :dog: :+1:\")\n",
        "  else:\n",
        "    st.write(\"Es un gato :cat: :+1:\")"
      ],
      "execution_count": null,
      "outputs": []
    },
    {
      "cell_type": "markdown",
      "metadata": {
        "id": "vvCCyD0mJavA"
      },
      "source": [
        "# 4) La siguiente celda es el código en el que se crea la función para llamar al modelo. **Esta función no debe modificarse.**\n",
        "\n",
        "\n"
      ]
    },
    {
      "cell_type": "code",
      "metadata": {
        "id": "Xj_O4Cbob18M"
      },
      "source": [
        "%%writefile img_classification.py\n",
        "import tensorflow.keras\n",
        "from PIL import Image, ImageOps\n",
        "import numpy as np\n",
        "\n",
        "\n",
        "def teachable_machine_classification(img, weights_file):\n",
        "    # Load the model\n",
        "    model = tensorflow.keras.models.load_model(weights_file)\n",
        "\n",
        "    # Create the array of the right shape to feed into the keras model\n",
        "    data = np.ndarray(shape=(1, 224, 224, 3), dtype=np.float32)\n",
        "    image = img\n",
        "    #image sizing\n",
        "    size = (224, 224)\n",
        "    image = ImageOps.fit(image, size, Image.ANTIALIAS)\n",
        "\n",
        "    #turn the image into a numpy array\n",
        "    image_array = np.asarray(image)\n",
        "    # Normalize the image\n",
        "    normalized_image_array = (image_array.astype(np.float32) / 127.0) - 1\n",
        "\n",
        "    # Load the image into the array\n",
        "    data[0] = normalized_image_array  # (Not sure if this is needed, but gives an error!!!)\n",
        "\n",
        "    # run the inference\n",
        "    prediction = model.predict(data)\n",
        "    return np.argmax(prediction) # return position of the highest probability"
      ],
      "execution_count": null,
      "outputs": []
    },
    {
      "cell_type": "markdown",
      "metadata": {
        "id": "x78MWzB6bF_A"
      },
      "source": [
        "# 5) La siguiente celda debe mantenerse funcionando para generar la liga a la applicación web. Al detenerse, el link quedará roto."
      ]
    },
    {
      "cell_type": "code",
      "metadata": {
        "id": "FTUt5JjyDkUz"
      },
      "source": [
        "from pyngrok import ngrok\n",
        "public_url = ngrok.connect(port='80')\n",
        "print('Link to web app:')\n",
        "print (public_url)\n",
        "!streamlit run --server.port 80 app.py >/dev/null"
      ],
      "execution_count": null,
      "outputs": []
    }
  ]
}